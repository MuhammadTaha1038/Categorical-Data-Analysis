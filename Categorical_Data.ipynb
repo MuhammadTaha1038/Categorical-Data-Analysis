{
 "cells": [
  {
   "cell_type": "markdown",
   "metadata": {},
   "source": [
    "# **Title : Working with Categorical Data in Python**\n",
    "<p align=\"center\">\n",
    "  <img src=\"image.png\" alt=\"Image\" width=\"1100\" height=\"450\">\n",
    "</p>\n"
   ]
  },
  {
   "cell_type": "markdown",
   "metadata": {},
   "source": [
    "## **Author : Muhammad Taha**\n",
    "### Email : contact.taha2005@gmail.com\n",
    "### <>[**GitHub**](https://github.com/MuhammadTaha1038) \n",
    "### <>[**LinkedIn**](https://www.linkedin.com/in/muhammad-taha-b88807248/)\n",
    "### Date : 7th feb, 2025\n",
    "---"
   ]
  },
  {
   "cell_type": "markdown",
   "metadata": {},
   "source": [
    "# **Table of Contents**\n",
    "### **1. Introduction**\n",
    "- [Defining the categorical data](#1-introduction)\n",
    "### **2. Dataset Descriptions**\n",
    "- [Adult Income Dataset](#1-adult-income-dataset)\n",
    "  - [Summary](#summary)\n",
    "  - [Column Details](#column-details)\n",
    "- [Shelter Dogs Dataset](#2-shelter-dogs-dataset)\n",
    "  - [Summary](#summary-1)\n",
    "  - [Column Details](#column-details-1)\n",
    "- [Las Vegas TripAdvisor Dataset](#3-las-vegas-tripadvisor-dataset)\n",
    "  - [Summary](#summary-2)\n",
    "  - [Column Details](#column-details-2)\n",
    "- [Cars Dataset](#4-cars-dataset)\n",
    "  - [Summary](#summary-3)\n",
    "  - [Column Details](#column-details-3)\n",
    "\n",
    "### **3. Importing the Necessary Libraries**\n",
    "- [Importing the necessary libraries](#importing-the-necessary-libraries)\n",
    "\n",
    "### **4. Working with the Adult Income Dataset**\n",
    "- [`.describe()`](#describe-)\n",
    "- [`.value_counts()`](#value_counts-)\n",
    "- [`.dtypes`](#dtypes-)\n",
    "- [`.astype()`](#astype-)\n",
    "- [Creating Categorical Series](#creating-the-categorical-series)\n",
    "  - [Nominal Categories (`pd.Series()`)](#1-creating-the-nominal-categories-by-using-pdseries)\n",
    "  - [Ordinal Categories (`pd.Categorical()`)](#2-creating-the-ordinal-categories-by-using-pdcategorical)\n",
    "- [Importance of Categorical Data Types (Memory Optimization)](#why-do-we-use-the-categorical-data-type)\n",
    "- [Specifying Data Types While Loading Data](#specifying-data-types-of-the-columns-during-loading-the-data)\n",
    "- [`.groupby()` for Grouped Analysis](#groupby--it-makes-the-groups-of-the-dataframe-on-the-basis-of-categories-of-column-given-to-it-using-by-parameter-and-gives-the-statics-of-numerical-columns-in-the-dataframe)\n",
    "\n",
    "### **5. Working with the Shelter Dogs Dataset**\n",
    "- [Setting Categorical Variables (`.cat` accessor)](#setting-the-categorical-variables)\n",
    "  - [`.set_categories()`](#set_categories--it-sets-the-specific-categories-of-series)\n",
    "  - [`.categories`](#categories--it-tells-the-categories-of-that-series)\n",
    "  - [`.add_categories()`](#add_categories)\n",
    "  - [`.remove_categories()`](#remove_categories--it-removes-the-categories-from-any-series)\n",
    "- [Updating Categories](#updating-the-categories)\n",
    "  - [`.rename_categories()`](#rename_categories--it-renames-the-name-of-the-categories)\n",
    "  - [Drawbacks of `.rename()`](#drawbacks-of-rename)\n",
    "  - [`.replace()`](#replace--it-overcome-all-the-probelms-of-rename)\n",
    "  - [`.reorder_categories()`](#reorder_categories--to-set-the-order-of-categories-order-will-be-as-of-specified-in-new_categories-parameter-and-will-displayed-similiarly-in-analysis)\n",
    "  - [`.str.strip()` & `.str.title()`](#strstrip--to-remove-the-whitespaces-in-any-name-of-category)\n",
    "  - [Searching for a String](#searching-for-a-string)\n",
    "  - [Accessing Data with `.loc`](#access-data-with-loc)\n",
    "\n",
    "### **6. Working with the Las Vegas TripAdvisor Dataset**\n",
    "- [Loading the Las Vegas TripAdvisor Dataset](#loading-the-las-vegas-tripadvisor-dataset)\n",
    "\n",
    "### **7. Visualizing the Categorical Data**\n",
    "- [`.catplot()`](#catplot)\n",
    "- [Box Plots](#box-plots)\n",
    "- [Bar Plots](#bar-plots)\n",
    "- [Point Plots](#point-plots)\n",
    "- [Subplots](#sub-plot)\n",
    "\n",
    "### **8. Working with the Cars Dataset**\n",
    "- [Handling Missing Values in Categorical Data (`.loc`)](#update-the-loc-statement-so-that-all-nan-values-in-body_type-are-set-to-other)\n",
    "\n",
    "### **9. Encoding Categorical Variables**\n",
    "- **Label Encoding**\n",
    "  - [`.cat.codes`](#catcodes--it-is-used-for-label-encoding-it-only-works-on-categorical-column)\n",
    "  - [Creating a Code Book](#creating-a-code-book)\n",
    "  - [Reverting to Previous Values](#reverting-to-previous-values)\n",
    "  - [Boolean Encoding](#creating-boolean-coding)\n",
    "- **One-Hot Encoding**\n",
    "  - [One-Hot Encoding](#one-hot-encoding)\n",
    "\n",
    "---\n"
   ]
  },
  {
   "cell_type": "markdown",
   "metadata": {},
   "source": [
    "# **Introduction**\n",
    "### Categorical data refers to variables that represent categories or groups rather than numerical values. These variables can take a limited number of distinct values and are often divided into two types:\n",
    "\n",
    "- Nominal Data: Categories without a meaningful order (e.g., gender, color, city names).\n",
    "- Ordinal Data: Categories with a meaningful order (e.g., education levels, customer satisfaction ratings)."
   ]
  },
  {
   "cell_type": "markdown",
   "metadata": {},
   "source": [
    "___"
   ]
  },
  {
   "cell_type": "markdown",
   "metadata": {},
   "source": [
    "## **Datasets Description**\n",
    "\n",
    "Providing an overview of the datasets used in the analysis, including their structure, column details, and relevant notes.\n",
    "\n",
    "\n",
    "## 1. Adult Income Dataset\n",
    "\n",
    "The **Adult Income Dataset** is used for classification tasks to predict whether an individual's income exceeds $50K per year based on demographic and employment-related attributes.\n",
    "\n",
    "### Summary\n",
    "- **Total Records**: 32,561\n",
    "- **Total Features**: 15\n",
    "\n",
    "### Column Details\n",
    "| Column Name       | Description |\n",
    "|-------------------|-------------|\n",
    "| **Age** | Age of the individual. |\n",
    "| **Workclass** | Type of employment (e.g., Private, Self-Employed, Government). |\n",
    "| **fnlgwt** | Population weight assigned to individuals. |\n",
    "| **Education** | Highest level of education achieved. |\n",
    "| **Education Num** | Numeric representation of education level. |\n",
    "| **Marital Status** | Marital status of the individual. |\n",
    "| **Occupation** | Type of job held by the individual. |\n",
    "| **Relationship** | Relationship status within a household. |\n",
    "| **Race** | Race of the individual. |\n",
    "| **Sex** | Gender of the individual. |\n",
    "| **Capital Gain** | Income from capital gains. |\n",
    "| **Capital Loss** | Capital loss recorded. |\n",
    "| **Hours/Week** | Number of hours worked per week. |\n",
    "| **Country** | Country of origin/residence. |\n",
    "| **Above/Below 50k** | Target variable indicating income level. |\n",
    "\n",
    "## 2. Shelter Dogs Dataset\n",
    "\n",
    "The **Shelter Dogs Dataset** contains information about dogs available for adoption, including their demographics, behavior, and adoption status.\n",
    "\n",
    "### Summary\n",
    "- **Total Records**: 2,937\n",
    "- **Total Features**: 19\n",
    "\n",
    "### Column Details\n",
    "| Column Name       | Description |\n",
    "|-------------------|-------------|\n",
    "| **ID** | Unique identifier for each dog. |\n",
    "| **name** | Name of the dog. |\n",
    "| **age** | Age of the dog in years. |\n",
    "| **sex** | Gender of the dog. |\n",
    "| **breed** | Breed type of the dog. |\n",
    "| **date_found** | Date the dog was found. |\n",
    "| **adoptable_from** | Date when the dog became available for adoption. |\n",
    "| **posted** | Date when the dog was listed for adoption. |\n",
    "| **color** | Coat color of the dog. |\n",
    "| **coat** | Coat type. |\n",
    "| **size** | Size category of the dog. |\n",
    "| **neutered** | Whether the dog has been neutered. |\n",
    "| **housebroken** | Whether the dog is housebroken. |\n",
    "| **likes_people** | Whether the dog is friendly towards people. |\n",
    "| **likes_children** | Whether the dog is friendly towards children. |\n",
    "| **get_along_males** | Whether the dog gets along with male dogs. |\n",
    "| **get_along_females** | Whether the dog gets along with female dogs. |\n",
    "| **get_along_cats** | Whether the dog gets along with cats. |\n",
    "| **keep_in** | Suggested living environment for the dog. |\n",
    "\n",
    "## 3. Las Vegas TripAdvisor Dataset\n",
    "\n",
    "The **Las Vegas TripAdvisor Dataset** contains reviews of hotels in Las Vegas, collected from TripAdvisor, including user reviews, hotel features, and review metadata.\n",
    "\n",
    "### Summary\n",
    "- **Total Records**: 504\n",
    "- **Total Features**: 20\n",
    "\n",
    "### Column Details\n",
    "| Column Name       | Description |\n",
    "|-------------------|-------------|\n",
    "| **User country** | Country of the reviewer. |\n",
    "| **Nr. reviews** | Total number of reviews written by the user. |\n",
    "| **Nr. hotel reviews** | Number of hotel reviews written by the user. |\n",
    "| **Helpful votes** | Number of helpful votes received for reviews. |\n",
    "| **Score** | Rating score given by the user. |\n",
    "| **Period of stay** | Time period when the user stayed at the hotel. |\n",
    "| **Traveler type** | Type of traveler (e.g., Business, Family, Solo). |\n",
    "| **Pool** | Whether the hotel has a pool. |\n",
    "| **Gym** | Whether the hotel has a gym. |\n",
    "| **Tennis court** | Whether the hotel has a tennis court. |\n",
    "| **Spa** | Whether the hotel has a spa. |\n",
    "| **Casino** | Whether the hotel has a casino. |\n",
    "| **Free internet** | Whether the hotel offers free internet. |\n",
    "| **Hotel name** | Name of the hotel. |\n",
    "| **Hotel stars** | Star rating of the hotel. |\n",
    "| **Nr. rooms** | Number of rooms in the hotel. |\n",
    "| **User continent** | Continent of the reviewer. |\n",
    "| **Member years** | Number of years the reviewer has been a TripAdvisor member. |\n",
    "| **Review month** | Month in which the review was posted. |\n",
    "| **Review weekday** | Day of the week when the review was posted. |\n",
    "\n",
    "## 4. Cars Dataset\n",
    "\n",
    "The **Cars Dataset** contains information about used cars listed for sale, including manufacturer details, engine specifications, and pricing.\n",
    "\n",
    "### Summary\n",
    "- **Total Records**: 38,531\n",
    "- **Total Features**: 30\n",
    "\n",
    "### Column Details\n",
    "| Column Name         | Description |\n",
    "|---------------------|-------------|\n",
    "| **manufacturer_name** | Name of the car manufacturer. |\n",
    "| **model_name** | Model name of the car. |\n",
    "| **transmission** | Type of transmission. |\n",
    "| **color** | Exterior color of the car. |\n",
    "| **odometer_value** | Distance traveled by the car (in kilometers). |\n",
    "| **year_produced** | Year in which the car was manufactured. |\n",
    "| **engine_fuel** | Type of fuel used. |\n",
    "| **engine_has_gas** | Boolean indicating if gas equipment is installed. |\n",
    "| **engine_type** | Engine type. |\n",
    "| **engine_capacity** | Engine capacity in liters. |\n",
    "| **body_type** | Body type of the car. |\n",
    "| **has_warranty** | Boolean indicating if the car is under warranty. |\n",
    "| **state** | Condition of the car. |\n",
    "| **drivetrain** | Drivetrain type. |\n",
    "| **price_usd** | Price of the car in US dollars. |\n",
    "| **is_exchangeable** | Boolean indicating if the car is available for exchange. |\n",
    "| **location_region** | Region where the car is listed. |\n",
    "| **number_of_photos** | Number of images in the listing. |\n",
    "| **up_counter** | Number of times the listing has been updated. |\n",
    "| **feature_0 to feature_9** | Boolean values representing various additional car features. |\n",
    "| **duration_listed** | Number of days the car listing has been active. |\n"
   ]
  },
  {
   "cell_type": "markdown",
   "metadata": {},
   "source": [
    "## **Importing the necessary libraries**"
   ]
  },
  {
   "cell_type": "code",
   "execution_count": 2,
   "metadata": {},
   "outputs": [],
   "source": [
    "# importing libraries\n",
    "import pandas as pd                  # for data manipulation\n",
    "import numpy as np                   # for numeric computing\n",
    "import seaborn as sns                # for visualizations\n",
    "import matplotlib.pyplot as plt      #for ploting the graphs"
   ]
  },
  {
   "cell_type": "markdown",
   "metadata": {},
   "source": [
    "## **Loading the Adult Income Dataset**"
   ]
  },
  {
   "cell_type": "code",
   "execution_count": 3,
   "metadata": {},
   "outputs": [
    {
     "data": {
      "text/html": [
       "<div>\n",
       "<style scoped>\n",
       "    .dataframe tbody tr th:only-of-type {\n",
       "        vertical-align: middle;\n",
       "    }\n",
       "\n",
       "    .dataframe tbody tr th {\n",
       "        vertical-align: top;\n",
       "    }\n",
       "\n",
       "    .dataframe thead th {\n",
       "        text-align: right;\n",
       "    }\n",
       "</style>\n",
       "<table border=\"1\" class=\"dataframe\">\n",
       "  <thead>\n",
       "    <tr style=\"text-align: right;\">\n",
       "      <th></th>\n",
       "      <th>Age</th>\n",
       "      <th>Workclass</th>\n",
       "      <th>fnlgwt</th>\n",
       "      <th>Education</th>\n",
       "      <th>Education Num</th>\n",
       "      <th>Marital Status</th>\n",
       "      <th>Occupation</th>\n",
       "      <th>Relationship</th>\n",
       "      <th>Race</th>\n",
       "      <th>Sex</th>\n",
       "      <th>Capital Gain</th>\n",
       "      <th>Capital Loss</th>\n",
       "      <th>Hours/Week</th>\n",
       "      <th>Country</th>\n",
       "      <th>Above/Below 50k</th>\n",
       "    </tr>\n",
       "  </thead>\n",
       "  <tbody>\n",
       "    <tr>\n",
       "      <th>0</th>\n",
       "      <td>39</td>\n",
       "      <td>State-gov</td>\n",
       "      <td>77516</td>\n",
       "      <td>Bachelors</td>\n",
       "      <td>13</td>\n",
       "      <td>Never-married</td>\n",
       "      <td>Adm-clerical</td>\n",
       "      <td>Not-in-family</td>\n",
       "      <td>White</td>\n",
       "      <td>Male</td>\n",
       "      <td>2174</td>\n",
       "      <td>0</td>\n",
       "      <td>40</td>\n",
       "      <td>United-States</td>\n",
       "      <td>&lt;=50K</td>\n",
       "    </tr>\n",
       "    <tr>\n",
       "      <th>1</th>\n",
       "      <td>50</td>\n",
       "      <td>Self-emp-not-inc</td>\n",
       "      <td>83311</td>\n",
       "      <td>Bachelors</td>\n",
       "      <td>13</td>\n",
       "      <td>Married-civ-spouse</td>\n",
       "      <td>Exec-managerial</td>\n",
       "      <td>Husband</td>\n",
       "      <td>White</td>\n",
       "      <td>Male</td>\n",
       "      <td>0</td>\n",
       "      <td>0</td>\n",
       "      <td>13</td>\n",
       "      <td>United-States</td>\n",
       "      <td>&lt;=50K</td>\n",
       "    </tr>\n",
       "    <tr>\n",
       "      <th>2</th>\n",
       "      <td>38</td>\n",
       "      <td>Private</td>\n",
       "      <td>215646</td>\n",
       "      <td>HS-grad</td>\n",
       "      <td>9</td>\n",
       "      <td>Divorced</td>\n",
       "      <td>Handlers-cleaners</td>\n",
       "      <td>Not-in-family</td>\n",
       "      <td>White</td>\n",
       "      <td>Male</td>\n",
       "      <td>0</td>\n",
       "      <td>0</td>\n",
       "      <td>40</td>\n",
       "      <td>United-States</td>\n",
       "      <td>&lt;=50K</td>\n",
       "    </tr>\n",
       "    <tr>\n",
       "      <th>3</th>\n",
       "      <td>53</td>\n",
       "      <td>Private</td>\n",
       "      <td>234721</td>\n",
       "      <td>11th</td>\n",
       "      <td>7</td>\n",
       "      <td>Married-civ-spouse</td>\n",
       "      <td>Handlers-cleaners</td>\n",
       "      <td>Husband</td>\n",
       "      <td>Black</td>\n",
       "      <td>Male</td>\n",
       "      <td>0</td>\n",
       "      <td>0</td>\n",
       "      <td>40</td>\n",
       "      <td>United-States</td>\n",
       "      <td>&lt;=50K</td>\n",
       "    </tr>\n",
       "    <tr>\n",
       "      <th>4</th>\n",
       "      <td>28</td>\n",
       "      <td>Private</td>\n",
       "      <td>338409</td>\n",
       "      <td>Bachelors</td>\n",
       "      <td>13</td>\n",
       "      <td>Married-civ-spouse</td>\n",
       "      <td>Prof-specialty</td>\n",
       "      <td>Wife</td>\n",
       "      <td>Black</td>\n",
       "      <td>Female</td>\n",
       "      <td>0</td>\n",
       "      <td>0</td>\n",
       "      <td>40</td>\n",
       "      <td>Cuba</td>\n",
       "      <td>&lt;=50K</td>\n",
       "    </tr>\n",
       "  </tbody>\n",
       "</table>\n",
       "</div>"
      ],
      "text/plain": [
       "   Age          Workclass  fnlgwt   Education  Education Num  \\\n",
       "0   39          State-gov   77516   Bachelors             13   \n",
       "1   50   Self-emp-not-inc   83311   Bachelors             13   \n",
       "2   38            Private  215646     HS-grad              9   \n",
       "3   53            Private  234721        11th              7   \n",
       "4   28            Private  338409   Bachelors             13   \n",
       "\n",
       "        Marital Status          Occupation    Relationship    Race      Sex  \\\n",
       "0        Never-married        Adm-clerical   Not-in-family   White     Male   \n",
       "1   Married-civ-spouse     Exec-managerial         Husband   White     Male   \n",
       "2             Divorced   Handlers-cleaners   Not-in-family   White     Male   \n",
       "3   Married-civ-spouse   Handlers-cleaners         Husband   Black     Male   \n",
       "4   Married-civ-spouse      Prof-specialty            Wife   Black   Female   \n",
       "\n",
       "   Capital Gain  Capital Loss  Hours/Week         Country Above/Below 50k  \n",
       "0          2174             0          40   United-States           <=50K  \n",
       "1             0             0          13   United-States           <=50K  \n",
       "2             0             0          40   United-States           <=50K  \n",
       "3             0             0          40   United-States           <=50K  \n",
       "4             0             0          40            Cuba           <=50K  "
      ]
     },
     "execution_count": 3,
     "metadata": {},
     "output_type": "execute_result"
    }
   ],
   "source": [
    "# loading the data\n",
    "adult = pd.read_csv('adult.csv')\n",
    "adult.head()"
   ]
  },
  {
   "cell_type": "markdown",
   "metadata": {},
   "source": [
    "### **`.describe()`** : It describes the categorical variable, about its\n",
    "1. number of rows\n",
    "2. number of unique values\n",
    "3. top frequent category (mod)\n",
    "4. number of frequencies of the mod"
   ]
  },
  {
   "cell_type": "code",
   "execution_count": 4,
   "metadata": {},
   "outputs": [
    {
     "data": {
      "text/plain": [
       "count      32561\n",
       "unique         5\n",
       "top        White\n",
       "freq       27816\n",
       "Name: Race, dtype: object"
      ]
     },
     "execution_count": 4,
     "metadata": {},
     "output_type": "execute_result"
    }
   ],
   "source": [
    "adult['Race'].describe()"
   ]
  },
  {
   "cell_type": "markdown",
   "metadata": {},
   "source": [
    "### **`.value_counts()`** : It gives the frequencies of all unique categories\n",
    "(normalize=True) : setting this parameter will give relative frequencies of all categories"
   ]
  },
  {
   "cell_type": "code",
   "execution_count": 5,
   "metadata": {},
   "outputs": [
    {
     "data": {
      "text/plain": [
       "Race\n",
       "White                 27816\n",
       "Black                  3124\n",
       "Asian-Pac-Islander     1039\n",
       "Amer-Indian-Eskimo      311\n",
       "Other                   271\n",
       "Name: count, dtype: int64"
      ]
     },
     "execution_count": 5,
     "metadata": {},
     "output_type": "execute_result"
    }
   ],
   "source": [
    "adult['Race'].value_counts()"
   ]
  },
  {
   "cell_type": "code",
   "execution_count": 6,
   "metadata": {},
   "outputs": [
    {
     "data": {
      "text/plain": [
       "Race\n",
       "White                 0.854274\n",
       "Black                 0.095943\n",
       "Asian-Pac-Islander    0.031909\n",
       "Amer-Indian-Eskimo    0.009551\n",
       "Other                 0.008323\n",
       "Name: proportion, dtype: float64"
      ]
     },
     "execution_count": 6,
     "metadata": {},
     "output_type": "execute_result"
    }
   ],
   "source": [
    "adult['Race'].value_counts(normalize=True)"
   ]
  },
  {
   "cell_type": "markdown",
   "metadata": {},
   "source": [
    "### **`.dtypes`** : Its a property of pandas variables which gives the data types of columns"
   ]
  },
  {
   "cell_type": "code",
   "execution_count": 7,
   "metadata": {},
   "outputs": [
    {
     "data": {
      "text/plain": [
       "Age                 int64\n",
       "Workclass          object\n",
       "fnlgwt              int64\n",
       "Education          object\n",
       "Education Num       int64\n",
       "Marital Status     object\n",
       "Occupation         object\n",
       "Relationship       object\n",
       "Race               object\n",
       "Sex                object\n",
       "Capital Gain        int64\n",
       "Capital Loss        int64\n",
       "Hours/Week          int64\n",
       "Country            object\n",
       "Above/Below 50k    object\n",
       "dtype: object"
      ]
     },
     "execution_count": 7,
     "metadata": {},
     "output_type": "execute_result"
    }
   ],
   "source": [
    "adult.dtypes"
   ]
  },
  {
   "cell_type": "code",
   "execution_count": 8,
   "metadata": {},
   "outputs": [
    {
     "data": {
      "text/plain": [
       "dtype('O')"
      ]
     },
     "execution_count": 8,
     "metadata": {},
     "output_type": "execute_result"
    }
   ],
   "source": [
    "adult['Marital Status'].dtype"
   ]
  },
  {
   "cell_type": "markdown",
   "metadata": {},
   "source": [
    "here `o` refers to the pandas object data type"
   ]
  },
  {
   "cell_type": "markdown",
   "metadata": {},
   "source": [
    "### **`.astype()`** : It changes the data type of the columns"
   ]
  },
  {
   "cell_type": "code",
   "execution_count": 9,
   "metadata": {},
   "outputs": [
    {
     "data": {
      "text/plain": [
       "CategoricalDtype(categories=[' Divorced', ' Married-AF-spouse', ' Married-civ-spouse',\n",
       "                  ' Married-spouse-absent', ' Never-married', ' Separated',\n",
       "                  ' Widowed'],\n",
       ", ordered=False, categories_dtype=object)"
      ]
     },
     "execution_count": 9,
     "metadata": {},
     "output_type": "execute_result"
    }
   ],
   "source": [
    "adult['Marital Status'] = adult['Marital Status'].astype('category')\n",
    "adult['Marital Status'].dtype"
   ]
  },
  {
   "cell_type": "markdown",
   "metadata": {},
   "source": [
    "### here `ordered=False` indicates that the data is nominal meand it has no specific order among the categories\n",
    "___"
   ]
  },
  {
   "cell_type": "markdown",
   "metadata": {},
   "source": [
    "### **Creating the categorical Series**\n",
    "### 1. creating the nominal categories by using `pd.Series()`"
   ]
  },
  {
   "cell_type": "code",
   "execution_count": 10,
   "metadata": {},
   "outputs": [
    {
     "name": "stdout",
     "output_type": "stream",
     "text": [
      "0    A\n",
      "1    B\n",
      "2    C\n",
      "3    D\n",
      "4    A\n",
      "5    C\n",
      "6    D\n",
      "7    B\n",
      "8    C\n",
      "dtype: category\n",
      "Categories (4, object): ['A', 'B', 'C', 'D']\n"
     ]
    }
   ],
   "source": [
    "my_data=['A', 'B', 'C', 'D', 'A', 'C', 'D', 'B', 'C']\n",
    "my_series1 = pd.Series(my_data, dtype='category')\n",
    "print(my_series1)"
   ]
  },
  {
   "cell_type": "markdown",
   "metadata": {},
   "source": [
    "### 2. creating the ordinal categories by using `pd.Categorical()`\n",
    "- `categories` parameters specifies the order of categories in ascending order\n",
    "- `ordered=True` parameter indicates the ordinal data"
   ]
  },
  {
   "cell_type": "code",
   "execution_count": 11,
   "metadata": {},
   "outputs": [
    {
     "name": "stdout",
     "output_type": "stream",
     "text": [
      "['A', 'B', 'C', 'D', 'A', 'C', 'D', 'B', 'C']\n",
      "Categories (4, object): ['D' < 'C' < 'B' < 'A']\n"
     ]
    }
   ],
   "source": [
    "my_series2 = pd.Categorical(my_data, categories = ['D', 'C', 'B', 'A'], ordered=True)\n",
    "print(my_series2)"
   ]
  },
  {
   "cell_type": "markdown",
   "metadata": {},
   "source": [
    "___"
   ]
  },
  {
   "cell_type": "markdown",
   "metadata": {},
   "source": [
    "### *Why do we use the categorical data type?*\n",
    "### Answer is, its a huge memory saver"
   ]
  },
  {
   "cell_type": "code",
   "execution_count": 12,
   "metadata": {},
   "outputs": [
    {
     "name": "stdout",
     "output_type": "stream",
     "text": [
      "This column as a pandas object data type holds the momory of   : 260488 \n",
      "This column as a pandas category data type holds the momory of : 32577 \n"
     ]
    }
   ],
   "source": [
    "bytes_obj = adult['Sex'].nbytes\n",
    "print(f\"This column as a pandas {adult['Sex'].dtype} data type holds the momory of   : {bytes_obj} \")\n",
    "adult['Sex'] = adult['Sex'].astype('category')\n",
    "bytes_cat = adult['Sex'].nbytes\n",
    "print(f\"This column as a pandas {adult['Sex'].dtype} data type holds the momory of : {bytes_cat} \")\n"
   ]
  },
  {
   "cell_type": "markdown",
   "metadata": {},
   "source": [
    "### The momory of the columns reduced to 8 times almost\n",
    "___"
   ]
  },
  {
   "cell_type": "markdown",
   "metadata": {},
   "source": [
    "## Specifying data types of the columns during loading the data\n",
    "- *For doing this you should already know the columns of the dataset before loading it*.\n",
    "1. create the dictionary having keys as column and specify their data types as values.\n",
    "2. Set the parameter `dtype` inside the `pd.read_csv()` to that dictionary."
   ]
  },
  {
   "cell_type": "code",
   "execution_count": 13,
   "metadata": {},
   "outputs": [
    {
     "data": {
      "text/plain": [
       "Age                   int64\n",
       "Workclass            object\n",
       "fnlgwt                int64\n",
       "Education            object\n",
       "Education Num      category\n",
       "Marital Status       object\n",
       "Occupation           object\n",
       "Relationship         object\n",
       "Race               category\n",
       "Sex                  object\n",
       "Capital Gain          int64\n",
       "Capital Loss          int64\n",
       "Hours/Week            int64\n",
       "Country              object\n",
       "Above/Below 50k      object\n",
       "dtype: object"
      ]
     },
     "execution_count": 13,
     "metadata": {},
     "output_type": "execute_result"
    }
   ],
   "source": [
    "# creating the dictionary with columns as keys and data types as values\n",
    "dict1 = {'Education Num' : 'category', 'Race': \"category\"}\n",
    "\n",
    "# loading the data and setting the parameter\n",
    "adult2 = pd.read_csv('adult.csv', dtype = dict1)\n",
    "adult2.dtypes"
   ]
  },
  {
   "cell_type": "markdown",
   "metadata": {},
   "source": [
    "### `Education Num` column is now a category, which was originaly an integer.\n",
    "### `Race` column is also converted to category from object.\n",
    "___"
   ]
  },
  {
   "cell_type": "markdown",
   "metadata": {},
   "source": [
    "### **`.groupby`** : It makes the groups of the dataframe on the basis of categories of column given to it using `by` parameter and gives the statics of numerical columns in the dataframe\n",
    "- by default it calculates the mean of the numerical columns"
   ]
  },
  {
   "cell_type": "code",
   "execution_count": 14,
   "metadata": {},
   "outputs": [
    {
     "name": "stdout",
     "output_type": "stream",
     "text": [
      "Sex\n",
      "Female    36.858230\n",
      "Male      39.433547\n",
      "Name: Age, dtype: float64\n",
      "Sex\n",
      "Female    10771\n",
      "Male      21790\n",
      "dtype: int64\n"
     ]
    },
    {
     "name": "stderr",
     "output_type": "stream",
     "text": [
      "C:\\Users\\Lenovo\\AppData\\Local\\Temp\\ipykernel_12564\\219359119.py:2: FutureWarning: The default of observed=False is deprecated and will be changed to True in a future version of pandas. Pass observed=False to retain current behavior or observed=True to adopt the future default and silence this warning.\n",
      "  print(adult.groupby(by=['Sex'])['Age'].mean())\n",
      "C:\\Users\\Lenovo\\AppData\\Local\\Temp\\ipykernel_12564\\219359119.py:5: FutureWarning: The default of observed=False is deprecated and will be changed to True in a future version of pandas. Pass observed=False to retain current behavior or observed=True to adopt the future default and silence this warning.\n",
      "  print(adult.groupby(by=['Sex']).size())\n"
     ]
    }
   ],
   "source": [
    "# to print the mean of age group by gender\n",
    "print(adult.groupby(by=['Sex'])['Age'].mean())  \n",
    "\n",
    "# to print the count of unique genders\n",
    "print(adult.groupby(by=['Sex']).size())             "
   ]
  },
  {
   "cell_type": "markdown",
   "metadata": {},
   "source": [
    "___"
   ]
  },
  {
   "cell_type": "markdown",
   "metadata": {},
   "source": [
    "## **Loading the Shelter Dogs Dataset**"
   ]
  },
  {
   "cell_type": "code",
   "execution_count": 15,
   "metadata": {},
   "outputs": [
    {
     "data": {
      "text/html": [
       "<div>\n",
       "<style scoped>\n",
       "    .dataframe tbody tr th:only-of-type {\n",
       "        vertical-align: middle;\n",
       "    }\n",
       "\n",
       "    .dataframe tbody tr th {\n",
       "        vertical-align: top;\n",
       "    }\n",
       "\n",
       "    .dataframe thead th {\n",
       "        text-align: right;\n",
       "    }\n",
       "</style>\n",
       "<table border=\"1\" class=\"dataframe\">\n",
       "  <thead>\n",
       "    <tr style=\"text-align: right;\">\n",
       "      <th></th>\n",
       "      <th>ID</th>\n",
       "      <th>name</th>\n",
       "      <th>age</th>\n",
       "      <th>sex</th>\n",
       "      <th>breed</th>\n",
       "      <th>date_found</th>\n",
       "      <th>adoptable_from</th>\n",
       "      <th>posted</th>\n",
       "      <th>color</th>\n",
       "      <th>coat</th>\n",
       "      <th>size</th>\n",
       "      <th>neutered</th>\n",
       "      <th>housebroken</th>\n",
       "      <th>likes_people</th>\n",
       "      <th>likes_children</th>\n",
       "      <th>get_along_males</th>\n",
       "      <th>get_along_females</th>\n",
       "      <th>get_along_cats</th>\n",
       "      <th>keep_in</th>\n",
       "    </tr>\n",
       "  </thead>\n",
       "  <tbody>\n",
       "    <tr>\n",
       "      <th>0</th>\n",
       "      <td>23807</td>\n",
       "      <td>Gida</td>\n",
       "      <td>0.25</td>\n",
       "      <td>female</td>\n",
       "      <td>Unknown Mix</td>\n",
       "      <td>12/10/19</td>\n",
       "      <td>12/11/19</td>\n",
       "      <td>12/11/19</td>\n",
       "      <td>red</td>\n",
       "      <td>short</td>\n",
       "      <td>small</td>\n",
       "      <td>no</td>\n",
       "      <td>NaN</td>\n",
       "      <td>NaN</td>\n",
       "      <td>NaN</td>\n",
       "      <td>NaN</td>\n",
       "      <td>NaN</td>\n",
       "      <td>NaN</td>\n",
       "      <td>NaN</td>\n",
       "    </tr>\n",
       "    <tr>\n",
       "      <th>1</th>\n",
       "      <td>533</td>\n",
       "      <td>Frida És Ricsi</td>\n",
       "      <td>0.17</td>\n",
       "      <td>female</td>\n",
       "      <td>Unknown Mix</td>\n",
       "      <td>12/1/19</td>\n",
       "      <td>12/1/19</td>\n",
       "      <td>12/9/19</td>\n",
       "      <td>black and white</td>\n",
       "      <td>short</td>\n",
       "      <td>small</td>\n",
       "      <td>no</td>\n",
       "      <td>NaN</td>\n",
       "      <td>yes</td>\n",
       "      <td>yes</td>\n",
       "      <td>yes</td>\n",
       "      <td>yes</td>\n",
       "      <td>yes</td>\n",
       "      <td>NaN</td>\n",
       "    </tr>\n",
       "    <tr>\n",
       "      <th>2</th>\n",
       "      <td>23793</td>\n",
       "      <td>NaN</td>\n",
       "      <td>4.00</td>\n",
       "      <td>male</td>\n",
       "      <td>Unknown Mix</td>\n",
       "      <td>12/8/19</td>\n",
       "      <td>12/23/19</td>\n",
       "      <td>12/8/19</td>\n",
       "      <td>saddle back</td>\n",
       "      <td>short</td>\n",
       "      <td>medium</td>\n",
       "      <td>no</td>\n",
       "      <td>NaN</td>\n",
       "      <td>NaN</td>\n",
       "      <td>NaN</td>\n",
       "      <td>NaN</td>\n",
       "      <td>NaN</td>\n",
       "      <td>NaN</td>\n",
       "      <td>NaN</td>\n",
       "    </tr>\n",
       "    <tr>\n",
       "      <th>3</th>\n",
       "      <td>23795</td>\n",
       "      <td>NaN</td>\n",
       "      <td>1.00</td>\n",
       "      <td>male</td>\n",
       "      <td>Unknown Mix</td>\n",
       "      <td>12/8/19</td>\n",
       "      <td>12/23/19</td>\n",
       "      <td>12/8/19</td>\n",
       "      <td>yellow-brown</td>\n",
       "      <td>medium</td>\n",
       "      <td>medium</td>\n",
       "      <td>no</td>\n",
       "      <td>NaN</td>\n",
       "      <td>NaN</td>\n",
       "      <td>NaN</td>\n",
       "      <td>NaN</td>\n",
       "      <td>NaN</td>\n",
       "      <td>NaN</td>\n",
       "      <td>NaN</td>\n",
       "    </tr>\n",
       "    <tr>\n",
       "      <th>4</th>\n",
       "      <td>23806</td>\n",
       "      <td>Amy</td>\n",
       "      <td>2.00</td>\n",
       "      <td>female</td>\n",
       "      <td>French Bulldog Mix</td>\n",
       "      <td>12/10/19</td>\n",
       "      <td>12/11/19</td>\n",
       "      <td>12/11/19</td>\n",
       "      <td>black</td>\n",
       "      <td>short</td>\n",
       "      <td>small</td>\n",
       "      <td>no</td>\n",
       "      <td>NaN</td>\n",
       "      <td>NaN</td>\n",
       "      <td>NaN</td>\n",
       "      <td>NaN</td>\n",
       "      <td>NaN</td>\n",
       "      <td>NaN</td>\n",
       "      <td>NaN</td>\n",
       "    </tr>\n",
       "  </tbody>\n",
       "</table>\n",
       "</div>"
      ],
      "text/plain": [
       "      ID            name   age     sex               breed date_found  \\\n",
       "0  23807            Gida  0.25  female         Unknown Mix   12/10/19   \n",
       "1    533  Frida És Ricsi  0.17  female         Unknown Mix    12/1/19   \n",
       "2  23793             NaN  4.00    male         Unknown Mix    12/8/19   \n",
       "3  23795             NaN  1.00    male         Unknown Mix    12/8/19   \n",
       "4  23806             Amy  2.00  female  French Bulldog Mix   12/10/19   \n",
       "\n",
       "  adoptable_from    posted            color    coat    size neutered  \\\n",
       "0       12/11/19  12/11/19              red   short   small       no   \n",
       "1        12/1/19   12/9/19  black and white   short   small       no   \n",
       "2       12/23/19   12/8/19      saddle back   short  medium       no   \n",
       "3       12/23/19   12/8/19     yellow-brown  medium  medium       no   \n",
       "4       12/11/19  12/11/19            black   short   small       no   \n",
       "\n",
       "  housebroken likes_people likes_children get_along_males get_along_females  \\\n",
       "0         NaN          NaN            NaN             NaN               NaN   \n",
       "1         NaN          yes            yes             yes               yes   \n",
       "2         NaN          NaN            NaN             NaN               NaN   \n",
       "3         NaN          NaN            NaN             NaN               NaN   \n",
       "4         NaN          NaN            NaN             NaN               NaN   \n",
       "\n",
       "  get_along_cats keep_in  \n",
       "0            NaN     NaN  \n",
       "1            yes     NaN  \n",
       "2            NaN     NaN  \n",
       "3            NaN     NaN  \n",
       "4            NaN     NaN  "
      ]
     },
     "execution_count": 15,
     "metadata": {},
     "output_type": "execute_result"
    }
   ],
   "source": [
    "dogs=pd.read_csv('ShelterDogs.csv')\n",
    "dogs.head()"
   ]
  },
  {
   "cell_type": "code",
   "execution_count": 16,
   "metadata": {},
   "outputs": [
    {
     "data": {
      "text/plain": [
       "ID                     int64\n",
       "name                  object\n",
       "age                  float64\n",
       "sex                   object\n",
       "breed                 object\n",
       "date_found            object\n",
       "adoptable_from        object\n",
       "posted                object\n",
       "color                 object\n",
       "coat                  object\n",
       "size                  object\n",
       "neutered              object\n",
       "housebroken           object\n",
       "likes_people          object\n",
       "likes_children        object\n",
       "get_along_males       object\n",
       "get_along_females     object\n",
       "get_along_cats        object\n",
       "keep_in               object\n",
       "dtype: object"
      ]
     },
     "execution_count": 16,
     "metadata": {},
     "output_type": "execute_result"
    }
   ],
   "source": [
    "dogs.dtypes"
   ]
  },
  {
   "cell_type": "markdown",
   "metadata": {},
   "source": [
    "## **Setting the Categorical Variables**"
   ]
  },
  {
   "cell_type": "code",
   "execution_count": 17,
   "metadata": {},
   "outputs": [
    {
     "data": {
      "text/plain": [
       "coat\n",
       "short         1972\n",
       "medium         565\n",
       "wirehaired     220\n",
       "long           180\n",
       "Name: count, dtype: int64"
      ]
     },
     "execution_count": 17,
     "metadata": {},
     "output_type": "execute_result"
    }
   ],
   "source": [
    "dogs['coat'] = dogs['coat'].astype('category')\n",
    "dogs['coat'].value_counts(dropna=False)"
   ]
  },
  {
   "cell_type": "markdown",
   "metadata": {},
   "source": [
    "### **`.cat`** accessor \n",
    "- syntax : `Series.cat.method_name()`\n",
    "- It is only used in category dtype Series\n",
    "#### *common parameters*\n",
    "1. new_categories : a list of categories\n",
    "2. inplace : (boolean) - whether or not update should overwrite the Series\n",
    "3. ordered : (boolean) - it shows whether the data is ordinal or nominal"
   ]
  },
  {
   "cell_type": "markdown",
   "metadata": {},
   "source": [
    "### **`.set_categories()`** : It sets the specific categories of Series.\n",
    "The categories not mentioned in `new_categories` parameter are set as `NaN`"
   ]
  },
  {
   "cell_type": "code",
   "execution_count": 18,
   "metadata": {},
   "outputs": [
    {
     "data": {
      "text/plain": [
       "coat\n",
       "short     1972\n",
       "medium     565\n",
       "NaN        220\n",
       "long       180\n",
       "Name: count, dtype: int64"
      ]
     },
     "execution_count": 18,
     "metadata": {},
     "output_type": "execute_result"
    }
   ],
   "source": [
    "dogs['coat'] = dogs['coat'].cat.set_categories(new_categories = ['short', 'medium', 'long'], ordered = True)\n",
    "dogs['coat'].value_counts(dropna=False)"
   ]
  },
  {
   "cell_type": "markdown",
   "metadata": {},
   "source": [
    "##### Notice that the `wirehaired` category is set as `NaN` now\n",
    "---"
   ]
  },
  {
   "cell_type": "markdown",
   "metadata": {},
   "source": [
    "### **`.categories`** : It tells the categories of that Series"
   ]
  },
  {
   "cell_type": "code",
   "execution_count": 19,
   "metadata": {},
   "outputs": [
    {
     "data": {
      "text/plain": [
       "Index(['no', 'yes'], dtype='object')"
      ]
     },
     "execution_count": 19,
     "metadata": {},
     "output_type": "execute_result"
    }
   ],
   "source": [
    "dogs['likes_people'] = dogs['likes_people'].astype('category')\n",
    "dogs['likes_people'].cat.categories"
   ]
  },
  {
   "cell_type": "markdown",
   "metadata": {},
   "source": [
    "### **`.add_categories()`**"
   ]
  },
  {
   "cell_type": "code",
   "execution_count": 20,
   "metadata": {},
   "outputs": [
    {
     "data": {
      "text/plain": [
       "likes_people\n",
       "yes               1991\n",
       "NaN                938\n",
       "no                   8\n",
       "did not check        0\n",
       "could not tell       0\n",
       "Name: count, dtype: int64"
      ]
     },
     "execution_count": 20,
     "metadata": {},
     "output_type": "execute_result"
    }
   ],
   "source": [
    "dogs['likes_people'] = dogs['likes_people'].cat.add_categories(['did not check', 'could not tell'])\n",
    "dogs['likes_people'].value_counts(dropna=False)"
   ]
  },
  {
   "cell_type": "markdown",
   "metadata": {},
   "source": [
    "- Although by adding new categories doesn't mean any row of our data were set to these categories\n",
    "___"
   ]
  },
  {
   "cell_type": "markdown",
   "metadata": {},
   "source": [
    "### **`.remove_categories()`** : It removes the categories from any Series\n",
    "- `removals` parameter specifies the categories to be removed\n",
    "- Frequency of removed categories will be added to `NaN`"
   ]
  },
  {
   "cell_type": "code",
   "execution_count": 21,
   "metadata": {},
   "outputs": [
    {
     "data": {
      "text/plain": [
       "likes_people\n",
       "NaN               2937\n",
       "could not tell       0\n",
       "did not check        0\n",
       "Name: count, dtype: int64"
      ]
     },
     "execution_count": 21,
     "metadata": {},
     "output_type": "execute_result"
    }
   ],
   "source": [
    "dogs['likes_people'] = dogs['likes_people'].cat.remove_categories(removals = ['yes', 'no'])\n",
    "dogs['likes_people'].value_counts(dropna=False)"
   ]
  },
  {
   "cell_type": "markdown",
   "metadata": {},
   "source": [
    "___"
   ]
  },
  {
   "cell_type": "code",
   "execution_count": 22,
   "metadata": {},
   "outputs": [
    {
     "data": {
      "text/plain": [
       "size\n",
       "medium    1944\n",
       "large      519\n",
       "small      474\n",
       "Name: count, dtype: int64"
      ]
     },
     "execution_count": 22,
     "metadata": {},
     "output_type": "execute_result"
    }
   ],
   "source": [
    "dogs['size'] = dogs['size'].astype('category')\n",
    "dogs['size'].value_counts(dropna=True)"
   ]
  },
  {
   "cell_type": "markdown",
   "metadata": {},
   "source": [
    "## **Updating the Categories**"
   ]
  },
  {
   "cell_type": "markdown",
   "metadata": {},
   "source": [
    "### **`.rename_categories()`** : It renames the name of the categories\n",
    "- Make a dictionary of old names as keys, and new names as values.\n",
    "- Pass this dictionary as a parameter of .rename_categories()"
   ]
  },
  {
   "cell_type": "code",
   "execution_count": 23,
   "metadata": {},
   "outputs": [
    {
     "data": {
      "text/plain": [
       "size\n",
       "MID        1944\n",
       "Largest     519\n",
       "small       474\n",
       "Name: count, dtype: int64"
      ]
     },
     "execution_count": 23,
     "metadata": {},
     "output_type": "execute_result"
    }
   ],
   "source": [
    "changes = {'medium' : 'MID', 'large' : 'Largest'}\n",
    "dogs['size'] = dogs['size'].cat.rename_categories(changes)\n",
    "dogs['size'].value_counts(dropna=True)"
   ]
  },
  {
   "cell_type": "markdown",
   "metadata": {},
   "source": [
    "### *Drawbacks of `.rename()`*\n",
    "- It doesn't work when new name is already taken by another category which is present in same Series.\n",
    "- When we are updating multiple categories, all the new names should be unique."
   ]
  },
  {
   "cell_type": "markdown",
   "metadata": {},
   "source": [
    "### **`.replace()`** : It overcome all the probelms of `.rename()`"
   ]
  },
  {
   "cell_type": "code",
   "execution_count": 24,
   "metadata": {},
   "outputs": [
    {
     "name": "stderr",
     "output_type": "stream",
     "text": [
      "C:\\Users\\Lenovo\\AppData\\Local\\Temp\\ipykernel_12564\\3640457040.py:2: FutureWarning: The behavior of Series.replace (and DataFrame.replace) with CategoricalDtype is deprecated. In a future version, replace will only be used for cases that preserve the categories. To change the categories, use ser.cat.rename_categories instead.\n",
      "  dogs['size_collapsed'] = dogs['size'].replace(collapse_changes)\n"
     ]
    },
    {
     "data": {
      "text/plain": [
       "size_collapsed\n",
       "M    1944\n",
       "L     519\n",
       "S     474\n",
       "Name: count, dtype: int64"
      ]
     },
     "execution_count": 24,
     "metadata": {},
     "output_type": "execute_result"
    }
   ],
   "source": [
    "collapse_changes = {'MID' : 'M', 'Largest' : 'L', 'small' : 'S'}\n",
    "dogs['size_collapsed'] = dogs['size'].replace(collapse_changes)\n",
    "dogs['size_collapsed'].value_counts(dropna=False)"
   ]
  },
  {
   "cell_type": "markdown",
   "metadata": {},
   "source": [
    "### **`.reorder_categories()`** : to set the order of categories. Order will be as of specified in `new_categories` parameter and will displayed similiarly in analysis"
   ]
  },
  {
   "cell_type": "code",
   "execution_count": 25,
   "metadata": {},
   "outputs": [
    {
     "name": "stderr",
     "output_type": "stream",
     "text": [
      "C:\\Users\\Lenovo\\AppData\\Local\\Temp\\ipykernel_12564\\205731579.py:2: FutureWarning: The default of observed=False is deprecated and will be changed to True in a future version of pandas. Pass observed=False to retain current behavior or observed=True to adopt the future default and silence this warning.\n",
      "  dogs.groupby(by=['size_collapsed']).size()\n"
     ]
    },
    {
     "data": {
      "text/plain": [
       "size_collapsed\n",
       "S     474\n",
       "M    1944\n",
       "L     519\n",
       "dtype: int64"
      ]
     },
     "execution_count": 25,
     "metadata": {},
     "output_type": "execute_result"
    }
   ],
   "source": [
    "dogs['size_collapsed']=dogs['size_collapsed'].cat.reorder_categories(new_categories=['S', 'M', 'L'], ordered=True)\n",
    "dogs.groupby(by=['size_collapsed']).size()"
   ]
  },
  {
   "cell_type": "code",
   "execution_count": 26,
   "metadata": {},
   "outputs": [
    {
     "name": "stdout",
     "output_type": "stream",
     "text": [
      "size     sex   \n",
      "Largest  male       331\n",
      "         female     188\n",
      "MID      male      1090\n",
      "         female     854\n",
      "small    male       260\n",
      "         female     214\n",
      "Name: count, dtype: int64\n"
     ]
    },
    {
     "name": "stderr",
     "output_type": "stream",
     "text": [
      "C:\\Users\\Lenovo\\AppData\\Local\\Temp\\ipykernel_12564\\255332577.py:2: FutureWarning: The default of observed=False is deprecated and will be changed to True in a future version of pandas. Pass observed=False to retain current behavior or observed=True to adopt the future default and silence this warning.\n",
      "  print(dogs.groupby(by=['size'])['sex'].value_counts())\n"
     ]
    }
   ],
   "source": [
    "# How many Male/Female dogs are available of each size?\n",
    "print(dogs.groupby(by=['size'])['sex'].value_counts())\n"
   ]
  },
  {
   "cell_type": "code",
   "execution_count": 27,
   "metadata": {},
   "outputs": [
    {
     "name": "stdout",
     "output_type": "stream",
     "text": [
      "size     keep_in             \n",
      "Largest  both flat and garden    191\n",
      "         garden                  172\n",
      "         flat                      5\n",
      "MID      both flat and garden    795\n",
      "         garden                  317\n",
      "         flat                     97\n",
      "small    both flat and garden    238\n",
      "         flat                     80\n",
      "         garden                   21\n",
      "Name: count, dtype: int64\n"
     ]
    },
    {
     "name": "stderr",
     "output_type": "stream",
     "text": [
      "C:\\Users\\Lenovo\\AppData\\Local\\Temp\\ipykernel_12564\\3762257339.py:2: FutureWarning: The default of observed=False is deprecated and will be changed to True in a future version of pandas. Pass observed=False to retain current behavior or observed=True to adopt the future default and silence this warning.\n",
      "  print(dogs.groupby(by='size')['keep_in'].value_counts())\n"
     ]
    }
   ],
   "source": [
    "# Do larger dogs need more room to roam?\n",
    "print(dogs.groupby(by='size')['keep_in'].value_counts())"
   ]
  },
  {
   "cell_type": "markdown",
   "metadata": {},
   "source": [
    "### **`.rename_categories()`** : to rename the categories in a categorical column"
   ]
  },
  {
   "cell_type": "code",
   "execution_count": 28,
   "metadata": {},
   "outputs": [
    {
     "data": {
      "text/plain": [
       "get_along_cats\n",
       "NaN    2506\n",
       "yes     275\n",
       " no     156\n",
       "Name: count, dtype: int64"
      ]
     },
     "execution_count": 28,
     "metadata": {},
     "output_type": "execute_result"
    }
   ],
   "source": [
    "d={'no' : ' no'}\n",
    "dogs['get_along_cats'] = dogs['get_along_cats'].astype('category')\n",
    "dogs['get_along_cats'] = dogs['get_along_cats'].cat.rename_categories(d)\n",
    "dogs['get_along_cats'].value_counts(dropna=False)"
   ]
  },
  {
   "cell_type": "markdown",
   "metadata": {},
   "source": [
    "### **`.str.strip()`** : to remove the whitespaces in any name of category"
   ]
  },
  {
   "cell_type": "code",
   "execution_count": 29,
   "metadata": {},
   "outputs": [
    {
     "data": {
      "text/plain": [
       "get_along_cats\n",
       "NaN    2506\n",
       "yes     275\n",
       "no      156\n",
       "Name: count, dtype: int64"
      ]
     },
     "execution_count": 29,
     "metadata": {},
     "output_type": "execute_result"
    }
   ],
   "source": [
    "# It removes the white spaces in the values of categorical column\n",
    "dogs['get_along_cats'] = dogs['get_along_cats'].str.strip()\n",
    "dogs['get_along_cats'].value_counts(dropna=False)"
   ]
  },
  {
   "cell_type": "markdown",
   "metadata": {},
   "source": [
    "### **`.str.title()`** : to capitalize 1st letter of categories"
   ]
  },
  {
   "cell_type": "code",
   "execution_count": 30,
   "metadata": {},
   "outputs": [
    {
     "data": {
      "text/plain": [
       "get_along_cats\n",
       "NaN    2506\n",
       "Yes     275\n",
       "No      156\n",
       "Name: count, dtype: int64"
      ]
     },
     "execution_count": 30,
     "metadata": {},
     "output_type": "execute_result"
    }
   ],
   "source": [
    "# It capitalize the first letter of all values\n",
    "dogs['get_along_cats'] = dogs['get_along_cats'].str.title()\n",
    "dogs['get_along_cats'].value_counts(dropna=False)"
   ]
  },
  {
   "cell_type": "markdown",
   "metadata": {},
   "source": [
    "### `.lower()` and `.upper()` can be used in a similiar way\n",
    "___"
   ]
  },
  {
   "cell_type": "markdown",
   "metadata": {},
   "source": [
    "### Searching for a string"
   ]
  },
  {
   "cell_type": "code",
   "execution_count": 31,
   "metadata": {},
   "outputs": [
    {
     "data": {
      "text/plain": [
       "[0       False\n",
       " 1       False\n",
       " 2       False\n",
       " 3       False\n",
       " 4       False\n",
       "         ...  \n",
       " 2932    False\n",
       " 2933    False\n",
       " 2934    False\n",
       " 2935    False\n",
       " 2936     True\n",
       " Name: breed, Length: 2937, dtype: bool]"
      ]
     },
     "execution_count": 31,
     "metadata": {},
     "output_type": "execute_result"
    }
   ],
   "source": [
    "[dogs['breed'].str.contains('Shepherd', regex=True)]"
   ]
  },
  {
   "cell_type": "markdown",
   "metadata": {},
   "source": [
    "### Access data with `.loc`"
   ]
  },
  {
   "cell_type": "code",
   "execution_count": 32,
   "metadata": {},
   "outputs": [
    {
     "data": {
      "text/plain": [
       "size\n",
       "MID        169\n",
       "small       69\n",
       "Largest     37\n",
       "Name: count, dtype: int64"
      ]
     },
     "execution_count": 32,
     "metadata": {},
     "output_type": "execute_result"
    }
   ],
   "source": [
    "dogs.loc[dogs['get_along_cats']=='Yes', 'size'].value_counts()"
   ]
  },
  {
   "cell_type": "markdown",
   "metadata": {},
   "source": [
    "---"
   ]
  },
  {
   "cell_type": "markdown",
   "metadata": {},
   "source": [
    "## **Loading the Las Vegas TripAdvisor Dataset**"
   ]
  },
  {
   "cell_type": "code",
   "execution_count": 33,
   "metadata": {},
   "outputs": [
    {
     "data": {
      "text/html": [
       "<div>\n",
       "<style scoped>\n",
       "    .dataframe tbody tr th:only-of-type {\n",
       "        vertical-align: middle;\n",
       "    }\n",
       "\n",
       "    .dataframe tbody tr th {\n",
       "        vertical-align: top;\n",
       "    }\n",
       "\n",
       "    .dataframe thead th {\n",
       "        text-align: right;\n",
       "    }\n",
       "</style>\n",
       "<table border=\"1\" class=\"dataframe\">\n",
       "  <thead>\n",
       "    <tr style=\"text-align: right;\">\n",
       "      <th></th>\n",
       "      <th>User country</th>\n",
       "      <th>Nr. reviews</th>\n",
       "      <th>Nr. hotel reviews</th>\n",
       "      <th>Helpful votes</th>\n",
       "      <th>Score</th>\n",
       "      <th>Period of stay</th>\n",
       "      <th>Traveler type</th>\n",
       "      <th>Pool</th>\n",
       "      <th>Gym</th>\n",
       "      <th>Tennis court</th>\n",
       "      <th>Spa</th>\n",
       "      <th>Casino</th>\n",
       "      <th>Free internet</th>\n",
       "      <th>Hotel name</th>\n",
       "      <th>Hotel stars</th>\n",
       "      <th>Nr. rooms</th>\n",
       "      <th>User continent</th>\n",
       "      <th>Member years</th>\n",
       "      <th>Review month</th>\n",
       "      <th>Review weekday</th>\n",
       "    </tr>\n",
       "  </thead>\n",
       "  <tbody>\n",
       "    <tr>\n",
       "      <th>0</th>\n",
       "      <td>USA</td>\n",
       "      <td>11</td>\n",
       "      <td>4</td>\n",
       "      <td>13</td>\n",
       "      <td>5</td>\n",
       "      <td>Dec-Feb</td>\n",
       "      <td>Friends</td>\n",
       "      <td>NO</td>\n",
       "      <td>YES</td>\n",
       "      <td>NO</td>\n",
       "      <td>NO</td>\n",
       "      <td>YES</td>\n",
       "      <td>YES</td>\n",
       "      <td>Circus Circus Hotel &amp; Casino Las Vegas</td>\n",
       "      <td>3</td>\n",
       "      <td>3773</td>\n",
       "      <td>North America</td>\n",
       "      <td>9</td>\n",
       "      <td>January</td>\n",
       "      <td>Thursday</td>\n",
       "    </tr>\n",
       "    <tr>\n",
       "      <th>1</th>\n",
       "      <td>USA</td>\n",
       "      <td>119</td>\n",
       "      <td>21</td>\n",
       "      <td>75</td>\n",
       "      <td>3</td>\n",
       "      <td>Dec-Feb</td>\n",
       "      <td>Business</td>\n",
       "      <td>NO</td>\n",
       "      <td>YES</td>\n",
       "      <td>NO</td>\n",
       "      <td>NO</td>\n",
       "      <td>YES</td>\n",
       "      <td>YES</td>\n",
       "      <td>Circus Circus Hotel &amp; Casino Las Vegas</td>\n",
       "      <td>3</td>\n",
       "      <td>3773</td>\n",
       "      <td>North America</td>\n",
       "      <td>3</td>\n",
       "      <td>January</td>\n",
       "      <td>Friday</td>\n",
       "    </tr>\n",
       "    <tr>\n",
       "      <th>2</th>\n",
       "      <td>USA</td>\n",
       "      <td>36</td>\n",
       "      <td>9</td>\n",
       "      <td>25</td>\n",
       "      <td>5</td>\n",
       "      <td>Mar-May</td>\n",
       "      <td>Families</td>\n",
       "      <td>NO</td>\n",
       "      <td>YES</td>\n",
       "      <td>NO</td>\n",
       "      <td>NO</td>\n",
       "      <td>YES</td>\n",
       "      <td>YES</td>\n",
       "      <td>Circus Circus Hotel &amp; Casino Las Vegas</td>\n",
       "      <td>3</td>\n",
       "      <td>3773</td>\n",
       "      <td>North America</td>\n",
       "      <td>2</td>\n",
       "      <td>February</td>\n",
       "      <td>Saturday</td>\n",
       "    </tr>\n",
       "    <tr>\n",
       "      <th>3</th>\n",
       "      <td>UK</td>\n",
       "      <td>14</td>\n",
       "      <td>7</td>\n",
       "      <td>14</td>\n",
       "      <td>4</td>\n",
       "      <td>Mar-May</td>\n",
       "      <td>Friends</td>\n",
       "      <td>NO</td>\n",
       "      <td>YES</td>\n",
       "      <td>NO</td>\n",
       "      <td>NO</td>\n",
       "      <td>YES</td>\n",
       "      <td>YES</td>\n",
       "      <td>Circus Circus Hotel &amp; Casino Las Vegas</td>\n",
       "      <td>3</td>\n",
       "      <td>3773</td>\n",
       "      <td>Europe</td>\n",
       "      <td>6</td>\n",
       "      <td>February</td>\n",
       "      <td>Friday</td>\n",
       "    </tr>\n",
       "    <tr>\n",
       "      <th>4</th>\n",
       "      <td>Canada</td>\n",
       "      <td>5</td>\n",
       "      <td>5</td>\n",
       "      <td>2</td>\n",
       "      <td>4</td>\n",
       "      <td>Mar-May</td>\n",
       "      <td>Solo</td>\n",
       "      <td>NO</td>\n",
       "      <td>YES</td>\n",
       "      <td>NO</td>\n",
       "      <td>NO</td>\n",
       "      <td>YES</td>\n",
       "      <td>YES</td>\n",
       "      <td>Circus Circus Hotel &amp; Casino Las Vegas</td>\n",
       "      <td>3</td>\n",
       "      <td>3773</td>\n",
       "      <td>North America</td>\n",
       "      <td>7</td>\n",
       "      <td>March</td>\n",
       "      <td>Tuesday</td>\n",
       "    </tr>\n",
       "  </tbody>\n",
       "</table>\n",
       "</div>"
      ],
      "text/plain": [
       "  User country  Nr. reviews  Nr. hotel reviews  Helpful votes  Score  \\\n",
       "0          USA           11                  4             13      5   \n",
       "1          USA          119                 21             75      3   \n",
       "2          USA           36                  9             25      5   \n",
       "3           UK           14                  7             14      4   \n",
       "4       Canada            5                  5              2      4   \n",
       "\n",
       "  Period of stay Traveler type Pool  Gym Tennis court Spa Casino  \\\n",
       "0        Dec-Feb       Friends   NO  YES           NO  NO    YES   \n",
       "1        Dec-Feb      Business   NO  YES           NO  NO    YES   \n",
       "2        Mar-May      Families   NO  YES           NO  NO    YES   \n",
       "3        Mar-May       Friends   NO  YES           NO  NO    YES   \n",
       "4        Mar-May          Solo   NO  YES           NO  NO    YES   \n",
       "\n",
       "  Free internet                              Hotel name  Hotel stars  \\\n",
       "0           YES  Circus Circus Hotel & Casino Las Vegas            3   \n",
       "1           YES  Circus Circus Hotel & Casino Las Vegas            3   \n",
       "2           YES  Circus Circus Hotel & Casino Las Vegas            3   \n",
       "3           YES  Circus Circus Hotel & Casino Las Vegas            3   \n",
       "4           YES  Circus Circus Hotel & Casino Las Vegas            3   \n",
       "\n",
       "   Nr. rooms User continent  Member years Review month Review weekday  \n",
       "0       3773  North America             9      January       Thursday  \n",
       "1       3773  North America             3      January         Friday  \n",
       "2       3773  North America             2     February       Saturday  \n",
       "3       3773         Europe             6     February         Friday  \n",
       "4       3773  North America             7        March        Tuesday  "
      ]
     },
     "execution_count": 33,
     "metadata": {},
     "output_type": "execute_result"
    }
   ],
   "source": [
    "reviews = pd.read_csv('lasvegas_tripadvisor.csv')\n",
    "reviews.head()"
   ]
  },
  {
   "cell_type": "code",
   "execution_count": 34,
   "metadata": {},
   "outputs": [
    {
     "name": "stdout",
     "output_type": "stream",
     "text": [
      "<class 'pandas.core.frame.DataFrame'>\n",
      "RangeIndex: 504 entries, 0 to 503\n",
      "Data columns (total 20 columns):\n",
      " #   Column             Non-Null Count  Dtype \n",
      "---  ------             --------------  ----- \n",
      " 0   User country       504 non-null    object\n",
      " 1   Nr. reviews        504 non-null    int64 \n",
      " 2   Nr. hotel reviews  504 non-null    int64 \n",
      " 3   Helpful votes      504 non-null    int64 \n",
      " 4   Score              504 non-null    int64 \n",
      " 5   Period of stay     504 non-null    object\n",
      " 6   Traveler type      504 non-null    object\n",
      " 7   Pool               504 non-null    object\n",
      " 8   Gym                504 non-null    object\n",
      " 9   Tennis court       504 non-null    object\n",
      " 10  Spa                504 non-null    object\n",
      " 11  Casino             504 non-null    object\n",
      " 12  Free internet      504 non-null    object\n",
      " 13  Hotel name         504 non-null    object\n",
      " 14  Hotel stars        504 non-null    int64 \n",
      " 15  Nr. rooms          504 non-null    int64 \n",
      " 16  User continent     504 non-null    object\n",
      " 17  Member years       504 non-null    int64 \n",
      " 18  Review month       504 non-null    object\n",
      " 19  Review weekday     504 non-null    object\n",
      "dtypes: int64(7), object(13)\n",
      "memory usage: 78.9+ KB\n"
     ]
    }
   ],
   "source": [
    "reviews.info()"
   ]
  },
  {
   "cell_type": "markdown",
   "metadata": {},
   "source": [
    "# **Visualizing the Categorical Data**"
   ]
  },
  {
   "cell_type": "markdown",
   "metadata": {},
   "source": [
    "## **`.Catplot()`**"
   ]
  },
  {
   "cell_type": "markdown",
   "metadata": {},
   "source": [
    "## **Box Plots**"
   ]
  },
  {
   "cell_type": "code",
   "execution_count": 35,
   "metadata": {},
   "outputs": [
    {
     "data": {
      "image/png": "[encoded data removed]",
      "text/plain": [
       "<Figure size 511.111x500 with 1 Axes>"
      ]
     },
     "metadata": {},
     "output_type": "display_data"
    }
   ],
   "source": [
    "sns.catplot(x='Pool', y='Score', data=reviews, kind='box')\n",
    "plt.show()"
   ]
  },
  {
   "cell_type": "markdown",
   "metadata": {},
   "source": [
    "### Setting font size and background of the plot by using\n",
    "- `.sns.set()` : for setting font size by using `font_scale` parameter\n",
    "- `sns.set_style()` : for setting the background of the plot"
   ]
  },
  {
   "cell_type": "code",
   "execution_count": 36,
   "metadata": {},
   "outputs": [
    {
     "data": {
      "image/png": "[encoded data removed]",
      "text/plain": [
       "<Figure size 519.556x500 with 1 Axes>"
      ]
     },
     "metadata": {},
     "output_type": "display_data"
    }
   ],
   "source": [
    "sns.set(font_scale=1.6)         # to set the font size\n",
    "sns.set_style('whitegrid')      # to set the background\n",
    "sns.catplot(x=\"Pool\", y='Score', data=reviews, kind='box')\n",
    "plt.show()"
   ]
  },
  {
   "cell_type": "code",
   "execution_count": 37,
   "metadata": {},
   "outputs": [
    {
     "data": {
      "image/png": "[encoded data removed]",
      "text/plain": [
       "<Figure size 515.278x500 with 1 Axes>"
      ]
     },
     "metadata": {},
     "output_type": "display_data"
    }
   ],
   "source": [
    "sns.set(font_scale=1.25)         # to set the font size\n",
    "sns.set_style('darkgrid')      # to set the background\n",
    "sns.catplot(x=\"Traveler type\", y='Helpful votes', data=reviews, kind='box')\n",
    "plt.show()"
   ]
  },
  {
   "cell_type": "markdown",
   "metadata": {},
   "source": [
    "## **Bar plots**"
   ]
  },
  {
   "cell_type": "code",
   "execution_count": 38,
   "metadata": {},
   "outputs": [
    {
     "data": {
      "text/plain": [
       "<Axes: xlabel='Traveler type'>"
      ]
     },
     "execution_count": 38,
     "metadata": {},
     "output_type": "execute_result"
    },
    {
     "data": {
      "image/png": "[encoded data removed]",
      "text/plain": [
       "<Figure size 640x480 with 1 Axes>"
      ]
     },
     "metadata": {},
     "output_type": "display_data"
    }
   ],
   "source": [
    "# traditional bar plot to visualize the frequency of categories\n",
    "reviews['Traveler type'].value_counts().plot.bar()"
   ]
  },
  {
   "cell_type": "code",
   "execution_count": 39,
   "metadata": {},
   "outputs": [
    {
     "data": {
      "image/png": "[encoded data removed]",
      "text/plain": [
       "<Figure size 622.417x500 with 1 Axes>"
      ]
     },
     "metadata": {},
     "output_type": "display_data"
    }
   ],
   "source": [
    "# using catplot which counts a numerical variable in different categories\n",
    "sns.set(font_scale=1.2)\n",
    "sns.set_style('darkgrid')\n",
    "sns.catplot(data=reviews, x='Traveler type', y='Score', kind='bar', hue='Tennis court')\n",
    "plt.show()"
   ]
  },
  {
   "cell_type": "markdown",
   "metadata": {},
   "source": [
    "- The black lines indicates the confidence interval it means that we are 95% sure that \\\n",
    "mean of the respective category lies between this range"
   ]
  },
  {
   "cell_type": "markdown",
   "metadata": {},
   "source": [
    "- **It is showing that except Business type all other have given more ratings to those hotels who has the tennis court**"
   ]
  },
  {
   "cell_type": "code",
   "execution_count": 40,
   "metadata": {},
   "outputs": [
    {
     "name": "stdout",
     "output_type": "stream",
     "text": [
      "Period of stay\n",
      "Mar-May    128\n",
      "Jun-Aug    126\n",
      "Sep-Nov    126\n",
      "Dec-Feb    124\n",
      "Name: count, dtype: int64\n"
     ]
    }
   ],
   "source": [
    "print(reviews['Period of stay'].value_counts())"
   ]
  },
  {
   "cell_type": "code",
   "execution_count": 41,
   "metadata": {},
   "outputs": [
    {
     "data": {
      "text/plain": [
       "<seaborn.axisgrid.FacetGrid at 0x25a10e333b0>"
      ]
     },
     "execution_count": 41,
     "metadata": {},
     "output_type": "execute_result"
    },
    {
     "data": {
      "image/png": "[encoded data removed]",
      "text/plain": [
       "<Figure size 515.278x500 with 1 Axes>"
      ]
     },
     "metadata": {},
     "output_type": "display_data"
    }
   ],
   "source": [
    "sns.set(font_scale=1.25)\n",
    "sns.set_style('whitegrid')\n",
    "sns.catplot(data=reviews, x='Period of stay', y='Helpful votes', kind='bar')"
   ]
  },
  {
   "cell_type": "code",
   "execution_count": 42,
   "metadata": {},
   "outputs": [
    {
     "name": "stdout",
     "output_type": "stream",
     "text": [
      "sucessfully done\n"
     ]
    }
   ],
   "source": [
    "# changing the data type of 'Period of stay' column\n",
    "reviews['Period of stay'] = reviews['Period of stay'].astype('category')\n",
    "print('sucessfully done')"
   ]
  },
  {
   "cell_type": "code",
   "execution_count": 43,
   "metadata": {},
   "outputs": [
    {
     "data": {
      "text/plain": [
       "<seaborn.axisgrid.FacetGrid at 0x25a10e9ede0>"
      ]
     },
     "execution_count": 43,
     "metadata": {},
     "output_type": "execute_result"
    },
    {
     "data": {
      "image/png": "[encoded data removed]",
      "text/plain": [
       "<Figure size 515.278x500 with 1 Axes>"
      ]
     },
     "metadata": {},
     "output_type": "display_data"
    }
   ],
   "source": [
    "sns.set(font_scale=1.25)\n",
    "sns.set_style('whitegrid')\n",
    "sns.catplot(data=reviews, x='Period of stay', y='Helpful votes', kind='bar')"
   ]
  },
  {
   "cell_type": "markdown",
   "metadata": {},
   "source": [
    "- Note that now the order of categories in graph is arranged alphabatically"
   ]
  },
  {
   "cell_type": "markdown",
   "metadata": {},
   "source": [
    "## **Point Plots**\n",
    "- `dodge=True` for setting lines so that they do not overlap with other\n",
    "- `join=False` for removing the joining line of categories"
   ]
  },
  {
   "cell_type": "code",
   "execution_count": 44,
   "metadata": {},
   "outputs": [
    {
     "data": {
      "image/png": "[encoded data removed]",
      "text/plain": [
       "<Figure size 628.153x500 with 1 Axes>"
      ]
     },
     "metadata": {},
     "output_type": "display_data"
    }
   ],
   "source": [
    "sns.catplot(x='Spa', y='Score', data=reviews, kind='point', hue='Tennis court', dodge=True)\n",
    "plt.show()"
   ]
  },
  {
   "cell_type": "code",
   "execution_count": 45,
   "metadata": {},
   "outputs": [
    {
     "name": "stderr",
     "output_type": "stream",
     "text": [
      "C:\\Users\\Lenovo\\AppData\\Local\\Temp\\ipykernel_12564\\1379180382.py:1: UserWarning: \n",
      "\n",
      "The `join` parameter is deprecated and will be removed in v0.15.0. You can remove the line between points with `linestyle='none'`.\n",
      "\n",
      "  sns.catplot(x='Gym', y='Score', data=reviews, kind='point', dodge=True, join=False, hue='Free internet')\n"
     ]
    },
    {
     "data": {
      "text/plain": [
       "<seaborn.axisgrid.FacetGrid at 0x25a10fe8b30>"
      ]
     },
     "execution_count": 45,
     "metadata": {},
     "output_type": "execute_result"
    },
    {
     "data": {
      "image/png": "[encoded data removed]",
      "text/plain": [
       "<Figure size 633.903x500 with 1 Axes>"
      ]
     },
     "metadata": {},
     "output_type": "display_data"
    }
   ],
   "source": [
    "sns.catplot(x='Gym', y='Score', data=reviews, kind='point', dodge=True, join=False, hue='Free internet')"
   ]
  },
  {
   "cell_type": "markdown",
   "metadata": {},
   "source": [
    "## **Sub plot**\n",
    "- `ax` : to save the plot as facet grid object \n",
    "- `col` : to set the columns of the subplot \n",
    "- `col_wrap` : to specify the number of columns in one row \n",
    "- `palette` : to set colors set of plot "
   ]
  },
  {
   "cell_type": "code",
   "execution_count": 46,
   "metadata": {},
   "outputs": [
    {
     "name": "stderr",
     "output_type": "stream",
     "text": [
      "C:\\Users\\Lenovo\\AppData\\Local\\Temp\\ipykernel_12564\\498807443.py:1: FutureWarning: \n",
      "\n",
      "Passing `palette` without assigning `hue` is deprecated and will be removed in v0.14.0. Assign the `x` variable to `hue` and set `legend=False` for the same effect.\n",
      "\n",
      "  ax=sns.catplot(x='Traveler type', kind='count', data=reviews, col='User continent', col_wrap=3,\n",
      "C:\\Users\\Lenovo\\AppData\\Local\\Temp\\ipykernel_12564\\498807443.py:1: UserWarning: The palette list has more values (9) than needed (5), which may not be intended.\n",
      "  ax=sns.catplot(x='Traveler type', kind='count', data=reviews, col='User continent', col_wrap=3,\n"
     ]
    },
    {
     "data": {
      "image/png": "[encoded data removed]",
      "text/plain": [
       "<Figure size 1500x1000 with 6 Axes>"
      ]
     },
     "metadata": {},
     "output_type": "display_data"
    }
   ],
   "source": [
    "ax=sns.catplot(x='Traveler type', kind='count', data=reviews, col='User continent', col_wrap=3,\n",
    "               palette = sns.color_palette('Set1'))\n",
    "ax.fig.suptitle('Hotel Traveler types counts')\n",
    "ax.set_axis_labels('Taveler types', 'Number of reviews')\n",
    "plt.subplots_adjust(top=0.89)\n",
    "plt.show()"
   ]
  },
  {
   "cell_type": "markdown",
   "metadata": {},
   "source": [
    "___"
   ]
  },
  {
   "cell_type": "markdown",
   "metadata": {},
   "source": [
    "## **Loading the Cars Dataset**"
   ]
  },
  {
   "cell_type": "code",
   "execution_count": 47,
   "metadata": {},
   "outputs": [
    {
     "data": {
      "text/html": [
       "<div>\n",
       "<style scoped>\n",
       "    .dataframe tbody tr th:only-of-type {\n",
       "        vertical-align: middle;\n",
       "    }\n",
       "\n",
       "    .dataframe tbody tr th {\n",
       "        vertical-align: top;\n",
       "    }\n",
       "\n",
       "    .dataframe thead th {\n",
       "        text-align: right;\n",
       "    }\n",
       "</style>\n",
       "<table border=\"1\" class=\"dataframe\">\n",
       "  <thead>\n",
       "    <tr style=\"text-align: right;\">\n",
       "      <th></th>\n",
       "      <th>manufacturer_name</th>\n",
       "      <th>model_name</th>\n",
       "      <th>transmission</th>\n",
       "      <th>color</th>\n",
       "      <th>odometer_value</th>\n",
       "      <th>year_produced</th>\n",
       "      <th>engine_fuel</th>\n",
       "      <th>engine_has_gas</th>\n",
       "      <th>engine_type</th>\n",
       "      <th>engine_capacity</th>\n",
       "      <th>...</th>\n",
       "      <th>feature_1</th>\n",
       "      <th>feature_2</th>\n",
       "      <th>feature_3</th>\n",
       "      <th>feature_4</th>\n",
       "      <th>feature_5</th>\n",
       "      <th>feature_6</th>\n",
       "      <th>feature_7</th>\n",
       "      <th>feature_8</th>\n",
       "      <th>feature_9</th>\n",
       "      <th>duration_listed</th>\n",
       "    </tr>\n",
       "  </thead>\n",
       "  <tbody>\n",
       "    <tr>\n",
       "      <th>0</th>\n",
       "      <td>Subaru</td>\n",
       "      <td>Outback</td>\n",
       "      <td>automatic</td>\n",
       "      <td>silver</td>\n",
       "      <td>190000</td>\n",
       "      <td>2010</td>\n",
       "      <td>gasoline</td>\n",
       "      <td>False</td>\n",
       "      <td>gasoline</td>\n",
       "      <td>2.5</td>\n",
       "      <td>...</td>\n",
       "      <td>True</td>\n",
       "      <td>True</td>\n",
       "      <td>True</td>\n",
       "      <td>False</td>\n",
       "      <td>True</td>\n",
       "      <td>False</td>\n",
       "      <td>True</td>\n",
       "      <td>True</td>\n",
       "      <td>True</td>\n",
       "      <td>16</td>\n",
       "    </tr>\n",
       "    <tr>\n",
       "      <th>1</th>\n",
       "      <td>Subaru</td>\n",
       "      <td>Outback</td>\n",
       "      <td>automatic</td>\n",
       "      <td>blue</td>\n",
       "      <td>290000</td>\n",
       "      <td>2002</td>\n",
       "      <td>gasoline</td>\n",
       "      <td>False</td>\n",
       "      <td>gasoline</td>\n",
       "      <td>3.0</td>\n",
       "      <td>...</td>\n",
       "      <td>True</td>\n",
       "      <td>False</td>\n",
       "      <td>False</td>\n",
       "      <td>True</td>\n",
       "      <td>True</td>\n",
       "      <td>False</td>\n",
       "      <td>False</td>\n",
       "      <td>False</td>\n",
       "      <td>True</td>\n",
       "      <td>83</td>\n",
       "    </tr>\n",
       "    <tr>\n",
       "      <th>2</th>\n",
       "      <td>Subaru</td>\n",
       "      <td>Forester</td>\n",
       "      <td>automatic</td>\n",
       "      <td>red</td>\n",
       "      <td>402000</td>\n",
       "      <td>2001</td>\n",
       "      <td>gasoline</td>\n",
       "      <td>False</td>\n",
       "      <td>gasoline</td>\n",
       "      <td>2.5</td>\n",
       "      <td>...</td>\n",
       "      <td>True</td>\n",
       "      <td>False</td>\n",
       "      <td>False</td>\n",
       "      <td>False</td>\n",
       "      <td>False</td>\n",
       "      <td>False</td>\n",
       "      <td>False</td>\n",
       "      <td>True</td>\n",
       "      <td>True</td>\n",
       "      <td>151</td>\n",
       "    </tr>\n",
       "    <tr>\n",
       "      <th>3</th>\n",
       "      <td>Subaru</td>\n",
       "      <td>Impreza</td>\n",
       "      <td>mechanical</td>\n",
       "      <td>blue</td>\n",
       "      <td>10000</td>\n",
       "      <td>1999</td>\n",
       "      <td>gasoline</td>\n",
       "      <td>False</td>\n",
       "      <td>gasoline</td>\n",
       "      <td>3.0</td>\n",
       "      <td>...</td>\n",
       "      <td>False</td>\n",
       "      <td>False</td>\n",
       "      <td>False</td>\n",
       "      <td>False</td>\n",
       "      <td>False</td>\n",
       "      <td>False</td>\n",
       "      <td>False</td>\n",
       "      <td>False</td>\n",
       "      <td>False</td>\n",
       "      <td>86</td>\n",
       "    </tr>\n",
       "    <tr>\n",
       "      <th>4</th>\n",
       "      <td>Subaru</td>\n",
       "      <td>Legacy</td>\n",
       "      <td>automatic</td>\n",
       "      <td>black</td>\n",
       "      <td>280000</td>\n",
       "      <td>2001</td>\n",
       "      <td>gasoline</td>\n",
       "      <td>False</td>\n",
       "      <td>gasoline</td>\n",
       "      <td>2.5</td>\n",
       "      <td>...</td>\n",
       "      <td>True</td>\n",
       "      <td>False</td>\n",
       "      <td>True</td>\n",
       "      <td>True</td>\n",
       "      <td>False</td>\n",
       "      <td>False</td>\n",
       "      <td>False</td>\n",
       "      <td>False</td>\n",
       "      <td>True</td>\n",
       "      <td>7</td>\n",
       "    </tr>\n",
       "  </tbody>\n",
       "</table>\n",
       "<p>5 rows × 30 columns</p>\n",
       "</div>"
      ],
      "text/plain": [
       "  manufacturer_name model_name transmission   color  odometer_value  \\\n",
       "0            Subaru    Outback    automatic  silver          190000   \n",
       "1            Subaru    Outback    automatic    blue          290000   \n",
       "2            Subaru   Forester    automatic     red          402000   \n",
       "3            Subaru    Impreza   mechanical    blue           10000   \n",
       "4            Subaru     Legacy    automatic   black          280000   \n",
       "\n",
       "   year_produced engine_fuel  engine_has_gas engine_type  engine_capacity  \\\n",
       "0           2010    gasoline           False    gasoline              2.5   \n",
       "1           2002    gasoline           False    gasoline              3.0   \n",
       "2           2001    gasoline           False    gasoline              2.5   \n",
       "3           1999    gasoline           False    gasoline              3.0   \n",
       "4           2001    gasoline           False    gasoline              2.5   \n",
       "\n",
       "   ... feature_1  feature_2 feature_3 feature_4  feature_5  feature_6  \\\n",
       "0  ...      True       True      True     False       True      False   \n",
       "1  ...      True      False     False      True       True      False   \n",
       "2  ...      True      False     False     False      False      False   \n",
       "3  ...     False      False     False     False      False      False   \n",
       "4  ...      True      False      True      True      False      False   \n",
       "\n",
       "  feature_7  feature_8  feature_9  duration_listed  \n",
       "0      True       True       True               16  \n",
       "1     False      False       True               83  \n",
       "2     False       True       True              151  \n",
       "3     False      False      False               86  \n",
       "4     False      False       True                7  \n",
       "\n",
       "[5 rows x 30 columns]"
      ]
     },
     "execution_count": 47,
     "metadata": {},
     "output_type": "execute_result"
    }
   ],
   "source": [
    "used_cars = pd.read_csv('cars.csv')\n",
    "used_cars.head()"
   ]
  },
  {
   "cell_type": "markdown",
   "metadata": {},
   "source": [
    "## Some common pitfalls\n",
    "- number of bytes needed for categorical column is directly proportional to the number of categories"
   ]
  },
  {
   "cell_type": "code",
   "execution_count": 48,
   "metadata": {},
   "outputs": [
    {
     "name": "stdout",
     "output_type": "stream",
     "text": [
      "body_type\n",
      "sedan        13011\n",
      "hatchback     7644\n",
      "universal     5507\n",
      "suv           5164\n",
      "minivan       3608\n",
      "minibus       1369\n",
      "van            808\n",
      "coupe          652\n",
      "liftback       552\n",
      "pickup         129\n",
      "cabriolet       75\n",
      "limousine       12\n",
      "Name: count, dtype: int64\n"
     ]
    }
   ],
   "source": [
    "# Print the frequency table of body_type and include NaN values\n",
    "print(used_cars[\"body_type\"].value_counts(dropna=False))"
   ]
  },
  {
   "cell_type": "markdown",
   "metadata": {},
   "source": [
    "### Update the `.loc` statement so that all NaN values in \"body_type\" are set to \"other\""
   ]
  },
  {
   "cell_type": "code",
   "execution_count": 49,
   "metadata": {},
   "outputs": [
    {
     "data": {
      "text/plain": [
       "body_type\n",
       "sedan        13011\n",
       "hatchback     7644\n",
       "universal     5507\n",
       "suv           5164\n",
       "minivan       3608\n",
       "minibus       1369\n",
       "van            808\n",
       "coupe          652\n",
       "liftback       552\n",
       "pickup         129\n",
       "cabriolet       75\n",
       "limousine       12\n",
       "Name: count, dtype: int64"
      ]
     },
     "execution_count": 49,
     "metadata": {},
     "output_type": "execute_result"
    }
   ],
   "source": [
    "# Update NaN values\n",
    "used_cars.loc[used_cars[\"body_type\"].isna(), \"body_type\"] = \"other\"\n",
    "used_cars['body_type'].value_counts(dropna=False)"
   ]
  },
  {
   "cell_type": "markdown",
   "metadata": {},
   "source": [
    "## **Label Encoding**\n",
    "It codes each category as an integer from 0 through n-1, where n is the number of categories.\n",
    "- -1 code is reserved for Missing values.\n",
    "- can save alot of memory.\n",
    "- Used for machine learning models"
   ]
  },
  {
   "cell_type": "markdown",
   "metadata": {},
   "source": [
    "### `.cat.codes` : it is used for label encoding, it only works on categorical column"
   ]
  },
  {
   "cell_type": "code",
   "execution_count": 50,
   "metadata": {},
   "outputs": [
    {
     "name": "stdout",
     "output_type": "stream",
     "text": [
      "       manufacturer_code manufacturer_name\n",
      "0                     45            Subaru\n",
      "1                     45            Subaru\n",
      "2                     45            Subaru\n",
      "3                     45            Subaru\n",
      "4                     45            Subaru\n",
      "...                  ...               ...\n",
      "38526                  8          Chrysler\n",
      "38527                  8          Chrysler\n",
      "38528                  8          Chrysler\n",
      "38529                  8          Chrysler\n",
      "38530                  8          Chrysler\n",
      "\n",
      "[38531 rows x 2 columns]\n"
     ]
    }
   ],
   "source": [
    "used_cars['manufacturer_name'] = used_cars['manufacturer_name'].astype('category')\n",
    "used_cars['manufacturer_code'] = used_cars['manufacturer_name'].cat.codes\n",
    "print(used_cars[['manufacturer_code', 'manufacturer_name']])"
   ]
  },
  {
   "cell_type": "markdown",
   "metadata": {},
   "source": [
    "### creating a code book"
   ]
  },
  {
   "cell_type": "code",
   "execution_count": 51,
   "metadata": {},
   "outputs": [
    {
     "name": "stdout",
     "output_type": "stream",
     "text": [
      "{45: 'Subaru', 24: 'LADA', 12: 'Dodge', 54: 'УАЗ', 23: 'Kia', 35: 'Opel', 53: 'Москвич', 1: 'Alfa Romeo', 0: 'Acura', 10: 'Dacia', 27: 'Lexus', 33: 'Mitsubishi', 25: 'Lancia', 9: 'Citroen', 32: 'Mini', 21: 'Jaguar', 38: 'Porsche', 44: 'SsangYong', 11: 'Daewoo', 15: 'Geely', 50: 'ВАЗ', 13: 'Fiat', 14: 'Ford', 39: 'Renault', 42: 'Seat', 40: 'Rover', 48: 'Volkswagen', 28: 'Lifan', 22: 'Jeep', 5: 'Cadillac', 2: 'Audi', 52: 'ЗАЗ', 47: 'Toyota', 51: 'ГАЗ', 49: 'Volvo', 7: 'Chevrolet', 16: 'Great Wall', 4: 'Buick', 37: 'Pontiac', 29: 'Lincoln', 18: 'Hyundai', 34: 'Nissan', 46: 'Suzuki', 3: 'BMW', 30: 'Mazda', 26: 'Land Rover', 20: 'Iveco', 43: 'Skoda', 41: 'Saab', 19: 'Infiniti', 6: 'Chery', 17: 'Honda', 31: 'Mercedes-Benz', 36: 'Peugeot', 8: 'Chrysler'}\n"
     ]
    }
   ],
   "source": [
    "name_col = used_cars['manufacturer_name']\n",
    "code_col = used_cars['manufacturer_code']\n",
    "book_dict = dict(zip(code_col, name_col))\n",
    "print(book_dict)"
   ]
  },
  {
   "cell_type": "markdown",
   "metadata": {},
   "source": [
    "### Reverting to previous values\n"
   ]
  },
  {
   "cell_type": "code",
   "execution_count": 52,
   "metadata": {},
   "outputs": [
    {
     "data": {
      "text/plain": [
       "manufacturer_code\n",
       "Volkswagen       4243\n",
       "Opel             2759\n",
       "BMW              2610\n",
       "Ford             2566\n",
       "Renault          2493\n",
       "Audi             2468\n",
       "Mercedes-Benz    2237\n",
       "Peugeot          1909\n",
       "Citroen          1562\n",
       "Nissan           1361\n",
       "Mazda            1328\n",
       "Toyota           1246\n",
       "Hyundai          1116\n",
       "Skoda            1089\n",
       "Kia               912\n",
       "Mitsubishi        887\n",
       "Fiat              824\n",
       "Honda             797\n",
       "Volvo             721\n",
       "ВАЗ               481\n",
       "Chevrolet         436\n",
       "Chrysler          410\n",
       "Seat              303\n",
       "Dodge             297\n",
       "Subaru            291\n",
       "Rover             235\n",
       "Suzuki            234\n",
       "Daewoo            221\n",
       "Lexus             213\n",
       "Alfa Romeo        207\n",
       "ГАЗ               200\n",
       "Land Rover        184\n",
       "Infiniti          162\n",
       "LADA              146\n",
       "Iveco             139\n",
       "Saab              108\n",
       "Jeep              107\n",
       "Lancia             92\n",
       "SsangYong          79\n",
       "УАЗ                74\n",
       "Geely              71\n",
       "Mini               68\n",
       "Acura              66\n",
       "Porsche            61\n",
       "Dacia              59\n",
       "Chery              58\n",
       "Москвич            55\n",
       "Jaguar             53\n",
       "Buick              47\n",
       "Lifan              47\n",
       "Cadillac           43\n",
       "ЗАЗ                42\n",
       "Pontiac            42\n",
       "Great Wall         36\n",
       "Lincoln            36\n",
       "Name: count, dtype: int64"
      ]
     },
     "execution_count": 52,
     "metadata": {},
     "output_type": "execute_result"
    }
   ],
   "source": [
    "used_cars['manufacturer_code'] = used_cars['manufacturer_code'].map(book_dict)\n",
    "used_cars['manufacturer_code'].value_counts()"
   ]
  },
  {
   "cell_type": "code",
   "execution_count": 53,
   "metadata": {},
   "outputs": [
    {
     "data": {
      "text/plain": [
       "manufacturer_name\n",
       "Volkswagen       4243\n",
       "Opel             2759\n",
       "BMW              2610\n",
       "Ford             2566\n",
       "Renault          2493\n",
       "Audi             2468\n",
       "Mercedes-Benz    2237\n",
       "Peugeot          1909\n",
       "Citroen          1562\n",
       "Nissan           1361\n",
       "Mazda            1328\n",
       "Toyota           1246\n",
       "Hyundai          1116\n",
       "Skoda            1089\n",
       "Kia               912\n",
       "Mitsubishi        887\n",
       "Fiat              824\n",
       "Honda             797\n",
       "Volvo             721\n",
       "ВАЗ               481\n",
       "Chevrolet         436\n",
       "Chrysler          410\n",
       "Seat              303\n",
       "Dodge             297\n",
       "Subaru            291\n",
       "Rover             235\n",
       "Suzuki            234\n",
       "Daewoo            221\n",
       "Lexus             213\n",
       "Alfa Romeo        207\n",
       "ГАЗ               200\n",
       "Land Rover        184\n",
       "Infiniti          162\n",
       "LADA              146\n",
       "Iveco             139\n",
       "Saab              108\n",
       "Jeep              107\n",
       "Lancia             92\n",
       "SsangYong          79\n",
       "УАЗ                74\n",
       "Geely              71\n",
       "Mini               68\n",
       "Acura              66\n",
       "Porsche            61\n",
       "Dacia              59\n",
       "Chery              58\n",
       "Москвич            55\n",
       "Jaguar             53\n",
       "Lifan              47\n",
       "Buick              47\n",
       "Cadillac           43\n",
       "ЗАЗ                42\n",
       "Pontiac            42\n",
       "Great Wall         36\n",
       "Lincoln            36\n",
       "Name: count, dtype: int64"
      ]
     },
     "execution_count": 53,
     "metadata": {},
     "output_type": "execute_result"
    }
   ],
   "source": [
    "used_cars['manufacturer_name'].value_counts()"
   ]
  },
  {
   "cell_type": "markdown",
   "metadata": {},
   "source": [
    "### Creating boolean coding"
   ]
  },
  {
   "cell_type": "code",
   "execution_count": 54,
   "metadata": {},
   "outputs": [
    {
     "data": {
      "text/plain": [
       "van_code\n",
       "0    34115\n",
       "1     4416\n",
       "Name: count, dtype: int64"
      ]
     },
     "execution_count": 54,
     "metadata": {},
     "output_type": "execute_result"
    }
   ],
   "source": [
    "used_cars['van_code'] = np.where(used_cars['body_type'].str.contains('van', regex=False), 1, 0)\n",
    "used_cars['van_code'].value_counts()"
   ]
  },
  {
   "cell_type": "markdown",
   "metadata": {},
   "source": [
    "## **One-Hot encoding**\n",
    "`pd.get_dummies()` : used to make a seperate column for each category. It will set '1' if category is same as of the row otherwise '0'"
   ]
  },
  {
   "cell_type": "code",
   "execution_count": 55,
   "metadata": {},
   "outputs": [
    {
     "data": {
      "text/html": [
       "<div>\n",
       "<style scoped>\n",
       "    .dataframe tbody tr th:only-of-type {\n",
       "        vertical-align: middle;\n",
       "    }\n",
       "\n",
       "    .dataframe tbody tr th {\n",
       "        vertical-align: top;\n",
       "    }\n",
       "\n",
       "    .dataframe thead th {\n",
       "        text-align: right;\n",
       "    }\n",
       "</style>\n",
       "<table border=\"1\" class=\"dataframe\">\n",
       "  <thead>\n",
       "    <tr style=\"text-align: right;\">\n",
       "      <th></th>\n",
       "      <th>manufacturer_name</th>\n",
       "      <th>model_name</th>\n",
       "      <th>transmission</th>\n",
       "      <th>odometer_value</th>\n",
       "      <th>year_produced</th>\n",
       "      <th>engine_fuel</th>\n",
       "      <th>engine_has_gas</th>\n",
       "      <th>engine_type</th>\n",
       "      <th>engine_capacity</th>\n",
       "      <th>body_type</th>\n",
       "      <th>...</th>\n",
       "      <th>__brown</th>\n",
       "      <th>__green</th>\n",
       "      <th>__grey</th>\n",
       "      <th>__orange</th>\n",
       "      <th>__other</th>\n",
       "      <th>__red</th>\n",
       "      <th>__silver</th>\n",
       "      <th>__violet</th>\n",
       "      <th>__white</th>\n",
       "      <th>__yellow</th>\n",
       "    </tr>\n",
       "  </thead>\n",
       "  <tbody>\n",
       "    <tr>\n",
       "      <th>0</th>\n",
       "      <td>Subaru</td>\n",
       "      <td>Outback</td>\n",
       "      <td>automatic</td>\n",
       "      <td>190000</td>\n",
       "      <td>2010</td>\n",
       "      <td>gasoline</td>\n",
       "      <td>False</td>\n",
       "      <td>gasoline</td>\n",
       "      <td>2.5</td>\n",
       "      <td>universal</td>\n",
       "      <td>...</td>\n",
       "      <td>False</td>\n",
       "      <td>False</td>\n",
       "      <td>False</td>\n",
       "      <td>False</td>\n",
       "      <td>False</td>\n",
       "      <td>False</td>\n",
       "      <td>True</td>\n",
       "      <td>False</td>\n",
       "      <td>False</td>\n",
       "      <td>False</td>\n",
       "    </tr>\n",
       "    <tr>\n",
       "      <th>1</th>\n",
       "      <td>Subaru</td>\n",
       "      <td>Outback</td>\n",
       "      <td>automatic</td>\n",
       "      <td>290000</td>\n",
       "      <td>2002</td>\n",
       "      <td>gasoline</td>\n",
       "      <td>False</td>\n",
       "      <td>gasoline</td>\n",
       "      <td>3.0</td>\n",
       "      <td>universal</td>\n",
       "      <td>...</td>\n",
       "      <td>False</td>\n",
       "      <td>False</td>\n",
       "      <td>False</td>\n",
       "      <td>False</td>\n",
       "      <td>False</td>\n",
       "      <td>False</td>\n",
       "      <td>False</td>\n",
       "      <td>False</td>\n",
       "      <td>False</td>\n",
       "      <td>False</td>\n",
       "    </tr>\n",
       "    <tr>\n",
       "      <th>2</th>\n",
       "      <td>Subaru</td>\n",
       "      <td>Forester</td>\n",
       "      <td>automatic</td>\n",
       "      <td>402000</td>\n",
       "      <td>2001</td>\n",
       "      <td>gasoline</td>\n",
       "      <td>False</td>\n",
       "      <td>gasoline</td>\n",
       "      <td>2.5</td>\n",
       "      <td>suv</td>\n",
       "      <td>...</td>\n",
       "      <td>False</td>\n",
       "      <td>False</td>\n",
       "      <td>False</td>\n",
       "      <td>False</td>\n",
       "      <td>False</td>\n",
       "      <td>True</td>\n",
       "      <td>False</td>\n",
       "      <td>False</td>\n",
       "      <td>False</td>\n",
       "      <td>False</td>\n",
       "    </tr>\n",
       "    <tr>\n",
       "      <th>3</th>\n",
       "      <td>Subaru</td>\n",
       "      <td>Impreza</td>\n",
       "      <td>mechanical</td>\n",
       "      <td>10000</td>\n",
       "      <td>1999</td>\n",
       "      <td>gasoline</td>\n",
       "      <td>False</td>\n",
       "      <td>gasoline</td>\n",
       "      <td>3.0</td>\n",
       "      <td>sedan</td>\n",
       "      <td>...</td>\n",
       "      <td>False</td>\n",
       "      <td>False</td>\n",
       "      <td>False</td>\n",
       "      <td>False</td>\n",
       "      <td>False</td>\n",
       "      <td>False</td>\n",
       "      <td>False</td>\n",
       "      <td>False</td>\n",
       "      <td>False</td>\n",
       "      <td>False</td>\n",
       "    </tr>\n",
       "    <tr>\n",
       "      <th>4</th>\n",
       "      <td>Subaru</td>\n",
       "      <td>Legacy</td>\n",
       "      <td>automatic</td>\n",
       "      <td>280000</td>\n",
       "      <td>2001</td>\n",
       "      <td>gasoline</td>\n",
       "      <td>False</td>\n",
       "      <td>gasoline</td>\n",
       "      <td>2.5</td>\n",
       "      <td>universal</td>\n",
       "      <td>...</td>\n",
       "      <td>False</td>\n",
       "      <td>False</td>\n",
       "      <td>False</td>\n",
       "      <td>False</td>\n",
       "      <td>False</td>\n",
       "      <td>False</td>\n",
       "      <td>False</td>\n",
       "      <td>False</td>\n",
       "      <td>False</td>\n",
       "      <td>False</td>\n",
       "    </tr>\n",
       "  </tbody>\n",
       "</table>\n",
       "<p>5 rows × 43 columns</p>\n",
       "</div>"
      ],
      "text/plain": [
       "  manufacturer_name model_name transmission  odometer_value  year_produced  \\\n",
       "0            Subaru    Outback    automatic          190000           2010   \n",
       "1            Subaru    Outback    automatic          290000           2002   \n",
       "2            Subaru   Forester    automatic          402000           2001   \n",
       "3            Subaru    Impreza   mechanical           10000           1999   \n",
       "4            Subaru     Legacy    automatic          280000           2001   \n",
       "\n",
       "  engine_fuel  engine_has_gas engine_type  engine_capacity  body_type  ...  \\\n",
       "0    gasoline           False    gasoline              2.5  universal  ...   \n",
       "1    gasoline           False    gasoline              3.0  universal  ...   \n",
       "2    gasoline           False    gasoline              2.5        suv  ...   \n",
       "3    gasoline           False    gasoline              3.0      sedan  ...   \n",
       "4    gasoline           False    gasoline              2.5  universal  ...   \n",
       "\n",
       "   __brown __green __grey  __orange  __other  __red  __silver  __violet  \\\n",
       "0    False   False  False     False    False  False      True     False   \n",
       "1    False   False  False     False    False  False     False     False   \n",
       "2    False   False  False     False    False   True     False     False   \n",
       "3    False   False  False     False    False  False     False     False   \n",
       "4    False   False  False     False    False  False     False     False   \n",
       "\n",
       "   __white  __yellow  \n",
       "0    False     False  \n",
       "1    False     False  \n",
       "2    False     False  \n",
       "3    False     False  \n",
       "4    False     False  \n",
       "\n",
       "[5 rows x 43 columns]"
      ]
     },
     "execution_count": 55,
     "metadata": {},
     "output_type": "execute_result"
    }
   ],
   "source": [
    "used_cars_oh = pd.get_dummies(used_cars, columns=['color'], prefix = '_')\n",
    "used_cars_oh.head() "
   ]
  },
  {
   "cell_type": "markdown",
   "metadata": {},
   "source": [
    "## **🔍 Conclusion**  \n",
    "\n",
    "This project provided an in-depth exploration of **categorical data** and its significance in data analysis. We covered key techniques such as **categorical encoding, grouping, visualization, and transformation**, using **pandas, seaborn, and Matplotlib**. By applying these methods to multiple datasets, we gained insights into how categorical variables impact data interpretation and model performance.  \n",
    "\n",
    "Proper handling of categorical data is crucial for **efficient data processing and machine learning**. The use of encoding techniques like **Label Encoding and One-Hot Encoding** ensures that categorical features are effectively utilized in predictive models. Additionally, visualizing categorical distributions helps uncover patterns that might not be apparent in raw data.  \n",
    "\n",
    "Overall, this project highlights the importance of **categorical data preprocessing** in real-world data science workflows, enabling more accurate and meaningful analysis. 🚀  \n"
   ]
  }
 ],
 "metadata": {
  "kernelspec": {
   "display_name": "Python 3",
   "language": "python",
   "name": "python3"
  },
  "language_info": {
   "codemirror_mode": {
    "name": "ipython",
    "version": 3
   },
   "file_extension": ".py",
   "mimetype": "text/x-python",
   "name": "python",
   "nbconvert_exporter": "python",
   "pygments_lexer": "ipython3",
   "version": "3.12.4"
  }
 },
 "nbformat": 4,
 "nbformat_minor": 2
}
